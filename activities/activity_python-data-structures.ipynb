{
 "cells": [
  {
   "cell_type": "markdown",
   "metadata": {},
   "source": [
    "### Python Data Structures: Storing and Manipulating Data with `list`, `tuple` and `dict`."
   ]
  },
  {
   "cell_type": "markdown",
   "metadata": {},
   "source": [
    "## 1. Lists\n",
    "\n",
    "Lists in Python are used to store multiple items in a single variable. Lists are ordered, mutable (changeable), and allow duplicate values. They also support more advanced operations like sorting, filtering, and list comprehensions.\n",
    "\n",
    "### Example\n",
    "\n",
    "Imagine we have a list that stores the ages of patients waiting for appointments. We want to:\n",
    "- Add new patients,\n",
    "- Remove discharged patients,\n",
    "- Sort the list by age, and\n",
    "- Use a list comprehension to filter patients who are above a certain age."
   ]
  },
  {
   "cell_type": "code",
   "execution_count": 3,
   "metadata": {},
   "outputs": [
    {
     "name": "stdout",
     "output_type": "stream",
     "text": [
      "Updated patient ages: [34, 23, 45, 29, 56, 40, 37, 50]\n",
      "After removing a discharged patient: [34, 45, 29, 56, 40, 37, 50]\n",
      "Sorted patient ages: [29, 34, 37, 40, 45, 50, 56]\n",
      "Patients older than 40: [45, 50, 56]\n"
     ]
    }
   ],
   "source": [
    "# List of patient ages\n",
    "patient_ages = [34, 23, 45, 29, 56, 40]\n",
    "\n",
    "# Adding new patient ages\n",
    "patient_ages.append(37)\n",
    "patient_ages.append(50)\n",
    "print(\"Updated patient ages:\", patient_ages)\n",
    "\n",
    "# Removing a patient who was discharged\n",
    "patient_ages.remove(23)  # Removes the age 23\n",
    "print(\"After removing a discharged patient:\", patient_ages)\n",
    "\n",
    "# Sorting the ages\n",
    "patient_ages.sort()\n",
    "print(\"Sorted patient ages:\", patient_ages)\n",
    "\n",
    "# # Using list comprehension to find all patients above age 40\n",
    "# older_patients = [age for age in patient_ages if age > 40]\n",
    "# print(\"Patients older than 40:\", older_patients)"
   ]
  },
  {
   "cell_type": "markdown",
   "metadata": {},
   "source": [
    "### Exercise\n",
    "1. Create a list called `patient_names` with the names of at least five patients.\n",
    "2. Insert two more patient names at specific positions (e.g., insert one at the beginning and another in the middle).\n",
    "3. Remove a patient by name (imagine they’ve been discharged).\n",
    "4. Sort the list of names in alphabetical order.\n",
    "5. Using list comprehension, create a new list called `short_names` that contains only the names with 5 or fewer characters, and then make all the `short_names` all Caps.\n",
    "\n",
    "*Hints:*  \n",
    "- Use `insert()` to add items at specific positions, `remove()` to delete by name, `sort()` to order alphabetically. \n",
    "- Use list comprehension to filter criteria.\n",
    "- `upper()` and `lower()` are methods of `string`. What do you think they do?"
   ]
  },
  {
   "cell_type": "code",
   "execution_count": 4,
   "metadata": {},
   "outputs": [],
   "source": [
    "# Your code here\n",
    "patient_names = [...]\n",
    "\n",
    "# Insert two new names at specific positions\n",
    "\n",
    "# Remove a patient by name\n",
    "\n",
    "# Sort the names alphabetically\n",
    "\n",
    "# Filter for names with 5 or fewer characters, then make them all caps\n"
   ]
  },
  {
   "cell_type": "markdown",
   "metadata": {},
   "source": [
    "## 2. Tuples\n",
    "\n",
    "Tuples in Python are similar to lists, but with one important difference: they are immutable, meaning their values cannot be changed after they are created. Tuples are useful for storing data that should remain constant, like patient information that shouldn’t be accidentally altered. \n",
    "\n",
    "While tuples don’t support item assignments or many list operations, they do support a few useful methods and operations, such as indexing, slicing, counting, and using the `in` keyword to check for specific values.\n",
    "\n",
    "### Example\n",
    "\n",
    "Let’s store basic information about a single patient in a tuple, such as their ID, name, age, and diagnosis. We’ll then use various tuple methods to work with this data."
   ]
  },
  {
   "cell_type": "code",
   "execution_count": 5,
   "metadata": {},
   "outputs": [
    {
     "name": "stdout",
     "output_type": "stream",
     "text": [
      "Patient ID: 102\n",
      "Patient Name: Bob\n",
      "Count of 'Diabetes' in the tuple: 1\n",
      "Index of 'Bob': 1\n",
      "The patient has Diabetes.\n"
     ]
    }
   ],
   "source": [
    "# Tuple with patient data: (ID, Name, Age, Diagnosis)\n",
    "patient_data = (102, \"Bob\", 40, \"Diabetes\")\n",
    "\n",
    "# Accessing data in the tuple\n",
    "print(\"Patient ID:\", patient_data[0])\n",
    "print(\"Patient Name:\", patient_data[1])\n",
    "\n",
    "# Counting occurrences of an element in the tuple\n",
    "print(\"Count of 'Diabetes' in the tuple:\", patient_data.count(\"Diabetes\"))\n",
    "\n",
    "# Finding the index of a specific element\n",
    "print(\"Index of 'Bob':\", patient_data.index(\"Bob\"))\n",
    "\n",
    "# Checking if a certain diagnosis is in the tuple\n",
    "if \"Diabetes\" in patient_data:\n",
    "    print(\"The patient has Diabetes.\")"
   ]
  },
  {
   "cell_type": "markdown",
   "metadata": {},
   "source": [
    "### Exercise\n",
    "\n",
    "1. Create a tuple named `patient_vitals` with the following data: heart rate, blood pressure (systolic/diastolic), and temperature. Example: `(72, \"120/80\", 98.6)`.\n",
    "2. Print the temperature by accessing it directly from the tuple.\n",
    "3. Count how many times a specific value appears in the tuple (e.g., a repeated blood pressure reading).\n",
    "4. Check if a certain heart rate value (e.g., 72) is in the tuple using the `in` keyword.\n",
    "5. Attempt to modify the temperature in `patient_vitals`. Observe the error. What happened?\n",
    "\n",
    "*Hints:*  \n",
    "- Access tuple elements using indexing. Attempting to change an element will raise an error, demonstrating tuple immutability."
   ]
  },
  {
   "cell_type": "code",
   "execution_count": 6,
   "metadata": {},
   "outputs": [],
   "source": [
    "# Your code here\n",
    "patient_vitals = (...)\n",
    "\n",
    "# Access and print the temperature\n",
    "\n",
    "# Count occurrences of a value in the tuple\n",
    "\n",
    "# Check if a certain heart rate is in the tuple\n",
    "\n",
    "# Attempt to modify the temperature. Can you?\n",
    "import traceback\n",
    "try:\n",
    "    pass # Replace \"pass\" with attempt to modify\n",
    "except Exception:\n",
    "    print(traceback.format_exc()) # Nope!"
   ]
  },
  {
   "cell_type": "markdown",
   "metadata": {},
   "source": [
    "## 3. Dictionaries\n",
    "\n",
    "Dictionaries in Python store data in key-value pairs, making them ideal for structured data like patient records. Each item in a dictionary has a unique key, allowing efficient data retrieval. Dictionaries are mutable, so you can add, update, or delete items.\n",
    "\n",
    "### Example\n",
    "\n",
    "Let's create a patient record dictionary to demonstrate adding, updating, and copying items."
   ]
  },
  {
   "cell_type": "code",
   "execution_count": 7,
   "metadata": {},
   "outputs": [
    {
     "name": "stdout",
     "output_type": "stream",
     "text": [
      "Updated record with blood type: {'id': 103, 'name': 'Carol', 'age': 36, 'diagnosis': 'Hypertension', 'blood_type': 'O+'}\n",
      "Updated record after age change: {'id': 103, 'name': 'Carol', 'age': 37, 'diagnosis': 'Hypertension', 'blood_type': 'O+'}\n",
      "Updated record with additional diagnosis: {'id': 103, 'name': 'Carol', 'age': 37, 'diagnosis': 'Hypertension, Diabetes', 'blood_type': 'O+'}\n",
      "Copied patient record: {'id': 103, 'name': 'Carol', 'age': 36, 'diagnosis': 'Hypertension'}\n"
     ]
    }
   ],
   "source": [
    "# Patient record dictionary\n",
    "patient_record = {\n",
    "    \"id\": 103,\n",
    "    \"name\": \"Carol\",\n",
    "    \"age\": 36,\n",
    "    \"diagnosis\": \"Hypertension\"\n",
    "}\n",
    "\n",
    "# Copying the dictionary to keep a version of the original data\n",
    "patient_record_copy = patient_record.copy()\n",
    "\n",
    "# Adding a new item (e.g., blood type)\n",
    "patient_record[\"blood_type\"] = \"O+\"\n",
    "print(\"Updated record with blood type:\", patient_record)\n",
    "\n",
    "# Updating an existing item (e.g., update age after a birthday)\n",
    "patient_record[\"age\"] += 1\n",
    "print(\"Updated record after age change:\", patient_record)\n",
    "\n",
    "# Updating the diagnosis with a new diagnosis\n",
    "patient_record[\"diagnosis\"] = \"Hypertension, Diabetes\"\n",
    "print(\"Updated record with additional diagnosis:\", patient_record)\n",
    "\n",
    "# Note that the copy remains unchanged\n",
    "print(\"Copied patient record:\", patient_record_copy)"
   ]
  },
  {
   "cell_type": "markdown",
   "metadata": {},
   "source": [
    "### Exercise\n",
    "\n",
    "1. Create a dictionary named `hospital_dict` with the following keys:\n",
    "   - `\"name\"`: The name of the hospital as a string.\n",
    "   - `\"address\"`: The address of the hospital as a string.\n",
    "   - `\"record_list\"`: A list of dictionaries, each representing a patient record.\n",
    "\n",
    "2. In the `record_list`, add a single dictionary (representing a patient record) with the following keys and example values:\n",
    "   - `\"id\"`: An integer representing the patient ID.\n",
    "   - `\"name\"`: The patient’s name as a string.\n",
    "   - `\"age\"`: The patient’s age as an integer.\n",
    "   - `\"diagnosis\"`: The patient’s initial diagnosis as a string.\n",
    "\n",
    "3. Add `patient record` from the example above to the `record_list`.\n",
    "\n",
    "4. Update the age of the first patient in the `record_list` by adding 1 (to simulate a year passing).\n",
    "\n",
    "5. Create a `hospital_backup` from you `hospital_dict` in case anything terrible happens.\n",
    "\n",
    "6. Carol has been cured of Hypertension. Manipulate the `string` in her `\"diagnosis\"` to remove Hypertension. \n",
    "\n",
    "7. Delete the `record_list` from `hospital_dict`. Print `hospital_dict` as well as your `hospital_backup`. Was your backup effective?\n",
    "\n",
    "*Hints:*  \n",
    "- Use `append()` to add new patient records to `\"record_list\"`. Use indexing to access specific patients in the list.\n",
    "- You can remove items from a `dict` using the `del` keyword.\n",
    "- `dict2 = dict1` creates a reference `dict2` to `dict1`. Because `dict` is <i>mutable</i>, changes to `dict1` will affect `dict2`.\n",
    "- We can create a new `dict` in memory with `copy()`.\n",
    "- Make use of `.split()` and `.strip()` for #6."
   ]
  },
  {
   "cell_type": "code",
   "execution_count": 8,
   "metadata": {},
   "outputs": [
    {
     "name": "stdout",
     "output_type": "stream",
     "text": [
      "{'name': Ellipsis, 'address': Ellipsis, 'record_list': []}\n"
     ]
    }
   ],
   "source": [
    "# Your code here\n",
    "hospital_dict = {\n",
    "    \"name\": ...,\n",
    "    \"address\": ...,\n",
    "    \"record_list\": [] # leave empty (for now)\n",
    "}\n",
    "print(hospital_dict)\n",
    "\n",
    "# Add your own patient record to \"record_list\"\n",
    "\n",
    "# Add the patient_record from the example to the list\n",
    "\n",
    "# Update the age of the first patient\n",
    "\n",
    "# Create a backup of hospital_dict. We tried to do it for you here... Do you think this will work?\n",
    "# If not, try and do it properly.\n",
    "hospital_backup = hospital_dict\n",
    "\n",
    "# Update the diagnosis of the second patient\n",
    "\n",
    "# Delete your records in hospital_dict, and print your backup. Did your backup work?\n"
   ]
  }
 ],
 "metadata": {
  "kernelspec": {
   "display_name": "psf",
   "language": "python",
   "name": "python3"
  },
  "language_info": {
   "codemirror_mode": {
    "name": "ipython",
    "version": 3
   },
   "file_extension": ".py",
   "mimetype": "text/x-python",
   "name": "python",
   "nbconvert_exporter": "python",
   "pygments_lexer": "ipython3",
   "version": "3.12.0"
  }
 },
 "nbformat": 4,
 "nbformat_minor": 2
}
