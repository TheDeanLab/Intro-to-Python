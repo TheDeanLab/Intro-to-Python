{
 "cells": [
  {
   "cell_type": "markdown",
   "metadata": {},
   "source": [
    "## Python Data Visualization Exercise: Using seaborn to quickly make scientific plots from tabular data"
   ]
  },
  {
   "cell_type": "markdown",
   "metadata": {},
   "source": [
    "In many cases, you will find the need to interpret and present tabular results. Often this requires some way to visualize potential patterns in the data. A great library to do this is `seaborn` because:\n",
    "1) it has access to excellent colormaps which mimick the role of RColorBrewer in R, and has functions to plot the color palette. You can also customize with respect to e.g. saturation \n",
    "2) we can plot some complex plots that would require extra computation, panelling and layout in `matplotlib` to achieve\n",
    "\n",
    "**Note:** I do want to emphasize, getting things especially fonts to look exactly right programmatically is not necessary and you don't need to panel either because we can save any plots to vector graphics and compose/change any element using external programs e.g. Adobe illustrator, Affinity Designer.\n",
    "\n",
    "For these exercises, we will just use the standard datasets available in `seaborn`, as they give us a bit more to play with. \n",
    "\n",
    "Alternatively, feel free to use your own data or pick one from [Kaggle](https://www.kaggle.com/datasets) ! \n",
    "\n",
    "\n",
    "Make sure `seaborn` is installed. Use `pip install seaborn`"
   ]
  },
  {
   "cell_type": "markdown",
   "metadata": {},
   "source": [
    "#### Exercise 1: Execute the example in https://seaborn.pydata.org/examples/scatterplot_matrix.html. \n",
    "This will load a dataset 'penguins', and plot every variable pairwise with each other, colored by penguin species"
   ]
  },
  {
   "cell_type": "code",
   "execution_count": null,
   "metadata": {},
   "outputs": [],
   "source": []
  },
  {
   "cell_type": "markdown",
   "metadata": {},
   "source": [
    "#### Exercise 2: print the loaded table, what other feature are there?, perform the same plot but using a diferent parameter for `hue`"
   ]
  },
  {
   "cell_type": "code",
   "execution_count": null,
   "metadata": {},
   "outputs": [],
   "source": []
  },
  {
   "cell_type": "markdown",
   "metadata": {},
   "source": [
    "#### Exercise 3: Read the documentation API for `sns.pairplot` (https://seaborn.pydata.org/generated/seaborn.pairplot.html), scroll down to see how setting other parameters allows further customization of what is being plotted (No coding necessary)"
   ]
  },
  {
   "cell_type": "markdown",
   "metadata": {},
   "source": [
    "#### Exercise 4: From the documentation can you figure out what parameters change the plot size? replot the figure to be smaller on screen"
   ]
  },
  {
   "cell_type": "code",
   "execution_count": null,
   "metadata": {},
   "outputs": [],
   "source": []
  },
  {
   "cell_type": "markdown",
   "metadata": {},
   "source": [
    "#### Exercise 5: A seaborn plot is a `figure` object. Assign the command to a variable. How would you find what is this thing? Can you figure out how to save the plot?"
   ]
  },
  {
   "cell_type": "code",
   "execution_count": null,
   "metadata": {},
   "outputs": [],
   "source": []
  },
  {
   "cell_type": "markdown",
   "metadata": {},
   "source": [
    "#### Extension Exercise: Suppose we wanted to analyze the similarity between the different penguins by their physical attributes, and overlay metadata to discovery patterns One way to do this is to compute the pairwise correlation and perform hierarchical clustering. \n",
    "\n",
    "Read through https://seaborn.pydata.org/examples/structured_heatmap.html. Can you figure out how to modify the code to do this for the penguins dataset?\n"
   ]
  },
  {
   "cell_type": "code",
   "execution_count": null,
   "metadata": {},
   "outputs": [],
   "source": []
  }
 ],
 "metadata": {
  "kernelspec": {
   "display_name": "Python 3",
   "language": "python",
   "name": "python3"
  },
  "language_info": {
   "codemirror_mode": {
    "name": "ipython",
    "version": 3
   },
   "file_extension": ".py",
   "mimetype": "text/x-python",
   "name": "python",
   "nbconvert_exporter": "python",
   "pygments_lexer": "ipython3",
   "version": "3.8.5"
  }
 },
 "nbformat": 4,
 "nbformat_minor": 5
}
