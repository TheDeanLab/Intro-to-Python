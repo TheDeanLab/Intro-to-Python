{
 "cells": [
  {
   "cell_type": "markdown",
   "metadata": {},
   "source": [
    "## Python Library Ecosystem Exercise: Parsing, Manipulating, and Exploring Patient Metadata"
   ]
  },
  {
   "cell_type": "markdown",
   "metadata": {},
   "source": [
    "We are going to revisit the same public dataset of COVID-19 chest x-ray images as before. Now, instead of writing loops and iterating one-by-one over data entries, we are going to make use of python libraries and save ourselves a lot of coding and even gain speed!\n",
    "\n",
    "To start, let's make sure the libraries are installed:"
   ]
  },
  {
   "cell_type": "markdown",
   "metadata": {},
   "source": [
    "### Install Libraries\n",
    "\n",
    "Open a command prompt or terminal and use `pip` to install the libraries.\n",
    "```python\n",
    "pip install numpy scipy matplotlib pandas scikit-image scikit-learn\n",
    "```"
   ]
  },
  {
   "cell_type": "markdown",
   "metadata": {},
   "source": [
    "Check these libraries are installed, either by printing the installed list of libraries:\n",
    "\n",
    "```python\n",
    "pip list\n",
    "```\n",
    "\n",
    "or open python in the terminal and attempt to import each one "
   ]
  },
  {
   "cell_type": "code",
   "execution_count": 149,
   "metadata": {},
   "outputs": [
    {
     "name": "stdout",
     "output_type": "stream",
     "text": [
      "imported,  numpy\n",
      "imported,  scipy\n",
      "imported,  matplotlib\n",
      "imported,  pandas\n",
      "imported,  skimage\n",
      "imported,  sklearn\n"
     ]
    }
   ],
   "source": [
    "import importlib # this is only to import libraries in a loop by name. You would normally use 'import numpy' etc.\n",
    "\n",
    "library_names = ['numpy', 'scipy', 'matplotlib', 'pandas', 'skimage', 'sklearn']\n",
    "\n",
    "for lib in library_names:\n",
    "    try:\n",
    "        importlib.import_module(lib)\n",
    "        print('imported, ', lib)\n",
    "    except:\n",
    "        print(lib, ' library not installed ...')"
   ]
  },
  {
   "cell_type": "markdown",
   "metadata": {},
   "source": [
    "## 1. Read in the metadata.csv using ```pandas```"
   ]
  },
  {
   "cell_type": "code",
   "execution_count": 150,
   "metadata": {},
   "outputs": [
    {
     "data": {
      "text/plain": [
       "['.github',\n",
       " '.gitignore',\n",
       " '.gitkeep',\n",
       " 'annotations',\n",
       " 'docs',\n",
       " 'images',\n",
       " 'metadata.csv',\n",
       " 'README.md',\n",
       " 'requirements.txt',\n",
       " 'SCHEMA.md',\n",
       " 'scripts',\n",
       " 'tests',\n",
       " 'volumes']"
      ]
     },
     "execution_count": 150,
     "metadata": {},
     "output_type": "execute_result"
    }
   ],
   "source": [
    "# let's list the contents of the dataset repository\n",
    "import os \n",
    "\n",
    "os.listdir('../datasets/covid-chestxray-dataset')"
   ]
  },
  {
   "cell_type": "markdown",
   "metadata": {},
   "source": [
    "As before, use a variable to store the dataset folder and construct filepath to metadata programmatically to help readability"
   ]
  },
  {
   "cell_type": "code",
   "execution_count": 151,
   "metadata": {},
   "outputs": [
    {
     "name": "stdout",
     "output_type": "stream",
     "text": [
      "../datasets/covid-chestxray-dataset\\metadata.csv\n"
     ]
    }
   ],
   "source": [
    "dataset_folder = '../datasets/covid-chestxray-dataset'\n",
    "metadata_file = os.path.join(dataset_folder,\n",
    "                            'metadata.csv')\n",
    "print(metadata_file) # Note the \\ if on Windows. It looks weird, but will work fine"
   ]
  },
  {
   "cell_type": "code",
   "execution_count": 152,
   "metadata": {},
   "outputs": [
    {
     "name": "stdout",
     "output_type": "stream",
     "text": [
      "    patientid  offset sex   age                   finding RT_PCR_positive  \\\n",
      "0           2     0.0   M  65.0  Pneumonia/Viral/COVID-19               Y   \n",
      "1           2     3.0   M  65.0  Pneumonia/Viral/COVID-19               Y   \n",
      "2           2     5.0   M  65.0  Pneumonia/Viral/COVID-19               Y   \n",
      "3           2     6.0   M  65.0  Pneumonia/Viral/COVID-19               Y   \n",
      "4           4     0.0   F  52.0  Pneumonia/Viral/COVID-19               Y   \n",
      "..        ...     ...  ..   ...                       ...             ...   \n",
      "945       479     0.0   F  40.0                 Pneumonia             NaN   \n",
      "946       479    70.0   F  40.0                 Pneumonia             NaN   \n",
      "947       480     NaN   M  26.0                 Pneumonia             NaN   \n",
      "948       481     NaN   M  50.0                 Pneumonia             NaN   \n",
      "949       481     NaN   M  50.0                 Pneumonia             NaN   \n",
      "\n",
      "    survival intubated intubation_present went_icu  ...              date  \\\n",
      "0          Y         N                  N        N  ...  January 22, 2020   \n",
      "1          Y         N                  N        N  ...  January 25, 2020   \n",
      "2          Y         N                  N        N  ...  January 27, 2020   \n",
      "3          Y         N                  N        N  ...  January 28, 2020   \n",
      "4        NaN         N                  N        N  ...  January 25, 2020   \n",
      "..       ...       ...                ...      ...  ...               ...   \n",
      "945      NaN       NaN                NaN      NaN  ...               NaN   \n",
      "946      NaN       NaN                NaN      NaN  ...               NaN   \n",
      "947      NaN       NaN                NaN      NaN  ...               NaN   \n",
      "948      NaN       NaN                NaN      NaN  ...               NaN   \n",
      "949      NaN       NaN                NaN      NaN  ...               NaN   \n",
      "\n",
      "                                              location  folder  \\\n",
      "0          Cho Ray Hospital, Ho Chi Minh City, Vietnam  images   \n",
      "1          Cho Ray Hospital, Ho Chi Minh City, Vietnam  images   \n",
      "2          Cho Ray Hospital, Ho Chi Minh City, Vietnam  images   \n",
      "3          Cho Ray Hospital, Ho Chi Minh City, Vietnam  images   \n",
      "4    Changhua Christian Hospital, Changhua City, Ta...  images   \n",
      "..                                                 ...     ...   \n",
      "945                                     United Kingdom  images   \n",
      "946                                     United Kingdom  images   \n",
      "947                                                NaN  images   \n",
      "948                                                NaN  images   \n",
      "949                                                NaN  images   \n",
      "\n",
      "                                              filename                   doi  \\\n",
      "0    auntminnie-a-2020_01_28_23_51_6665_2020_01_28_...  10.1056/nejmc2001272   \n",
      "1    auntminnie-b-2020_01_28_23_51_6665_2020_01_28_...  10.1056/nejmc2001272   \n",
      "2    auntminnie-c-2020_01_28_23_51_6665_2020_01_28_...  10.1056/nejmc2001272   \n",
      "3    auntminnie-d-2020_01_28_23_51_6665_2020_01_28_...  10.1056/nejmc2001272   \n",
      "4                                nejmc2001573_f1a.jpeg  10.1056/NEJMc2001573   \n",
      "..                                                 ...                   ...   \n",
      "945        072ecaf8c60a81980abb57150a8016_jumbo-9.jpeg                   NaN   \n",
      "946        ff33c406392b968d483174c97eb857_jumbo-9.jpeg                   NaN   \n",
      "947                                     000001-266.jpg                   NaN   \n",
      "948                                     000001-272.jpg                   NaN   \n",
      "949                                     000002-268.jpg                   NaN   \n",
      "\n",
      "                                                   url          license  \\\n",
      "0    https://www.nejm.org/doi/full/10.1056/NEJMc200...              NaN   \n",
      "1    https://www.nejm.org/doi/full/10.1056/NEJMc200...              NaN   \n",
      "2    https://www.nejm.org/doi/full/10.1056/NEJMc200...              NaN   \n",
      "3    https://www.nejm.org/doi/full/10.1056/NEJMc200...              NaN   \n",
      "4    https://www.nejm.org/doi/full/10.1056/NEJMc200...              NaN   \n",
      "..                                                 ...              ...   \n",
      "945  https://radiopaedia.org/cases/multifocal-round...      CC BY-NC-SA   \n",
      "946  https://radiopaedia.org/cases/multifocal-round...      CC BY-NC-SA   \n",
      "947                   https://www.eurorad.org/case/947  CC BY-NC-SA 4.0   \n",
      "948                   https://www.eurorad.org/case/934  CC BY-NC-SA 4.0   \n",
      "949                   https://www.eurorad.org/case/934  CC BY-NC-SA 4.0   \n",
      "\n",
      "                                        clinical_notes  \\\n",
      "0    On January 22, 2020, a 65-year-old man with a ...   \n",
      "1    On January 22, 2020, a 65-year-old man with a ...   \n",
      "2    On January 22, 2020, a 65-year-old man with a ...   \n",
      "3    On January 22, 2020, a 65-year-old man with a ...   \n",
      "4     diffuse infiltrates in the bilateral lower lungs   \n",
      "..                                                 ...   \n",
      "945  Asthmatic. Shortness of breath and wheeze. Rou...   \n",
      "946  Asthmatic. Shortness of breath and wheeze. The...   \n",
      "947  fire-eater accidentally ingested a paraffin mi...   \n",
      "948  The patient, a heavy smoker, was referred to t...   \n",
      "949  The patient, a heavy smoker, was referred to t...   \n",
      "\n",
      "                                           other_notes Unnamed: 29  \n",
      "0                                                  NaN         NaN  \n",
      "1                                                  NaN         NaN  \n",
      "2                                                  NaN         NaN  \n",
      "3                                                  NaN         NaN  \n",
      "4                                                  NaN         NaN  \n",
      "..                                                 ...         ...  \n",
      "945  Case courtesy of Dr Ian Bickle, Radiopaedia.or...         NaN  \n",
      "946  Case courtesy of Dr Ian Bickle, Radiopaedia.or...         NaN  \n",
      "947                                                NaN         NaN  \n",
      "948                                                NaN         NaN  \n",
      "949                                                NaN         NaN  \n",
      "\n",
      "[950 rows x 30 columns]\n"
     ]
    }
   ],
   "source": [
    "def pandas_read_csv(filepath):\n",
    "    import pandas as pd # recommended to place import in function definition if you are not using it for many functions\n",
    "    \n",
    "    return pd.read_csv(filepath)\n",
    "\n",
    "metadata_table = pandas_read_csv(metadata_file)\n",
    "\n",
    "# you will see the data is nicely formatted now on print and 'NaN' is used for empty entries\n",
    "print(metadata_table)"
   ]
  },
  {
   "cell_type": "markdown",
   "metadata": {},
   "source": [
    "This structure makes it super easy to access contents. For example, the column names are keys. We can directly pull out all entries in the `patientid` column"
   ]
  },
  {
   "cell_type": "code",
   "execution_count": 153,
   "metadata": {},
   "outputs": [
    {
     "name": "stdout",
     "output_type": "stream",
     "text": [
      "    patientid  offset sex   age                   finding RT_PCR_positive  \\\n",
      "0           2     0.0   M  65.0  Pneumonia/Viral/COVID-19               Y   \n",
      "1           2     3.0   M  65.0  Pneumonia/Viral/COVID-19               Y   \n",
      "2           2     5.0   M  65.0  Pneumonia/Viral/COVID-19               Y   \n",
      "3           2     6.0   M  65.0  Pneumonia/Viral/COVID-19               Y   \n",
      "4           4     0.0   F  52.0  Pneumonia/Viral/COVID-19               Y   \n",
      "..        ...     ...  ..   ...                       ...             ...   \n",
      "945       479     0.0   F  40.0                 Pneumonia             NaN   \n",
      "946       479    70.0   F  40.0                 Pneumonia             NaN   \n",
      "947       480     NaN   M  26.0                 Pneumonia             NaN   \n",
      "948       481     NaN   M  50.0                 Pneumonia             NaN   \n",
      "949       481     NaN   M  50.0                 Pneumonia             NaN   \n",
      "\n",
      "    survival intubated intubation_present went_icu  ...              date  \\\n",
      "0          Y         N                  N        N  ...  January 22, 2020   \n",
      "1          Y         N                  N        N  ...  January 25, 2020   \n",
      "2          Y         N                  N        N  ...  January 27, 2020   \n",
      "3          Y         N                  N        N  ...  January 28, 2020   \n",
      "4        NaN         N                  N        N  ...  January 25, 2020   \n",
      "..       ...       ...                ...      ...  ...               ...   \n",
      "945      NaN       NaN                NaN      NaN  ...               NaN   \n",
      "946      NaN       NaN                NaN      NaN  ...               NaN   \n",
      "947      NaN       NaN                NaN      NaN  ...               NaN   \n",
      "948      NaN       NaN                NaN      NaN  ...               NaN   \n",
      "949      NaN       NaN                NaN      NaN  ...               NaN   \n",
      "\n",
      "                                              location  folder  \\\n",
      "0          Cho Ray Hospital, Ho Chi Minh City, Vietnam  images   \n",
      "1          Cho Ray Hospital, Ho Chi Minh City, Vietnam  images   \n",
      "2          Cho Ray Hospital, Ho Chi Minh City, Vietnam  images   \n",
      "3          Cho Ray Hospital, Ho Chi Minh City, Vietnam  images   \n",
      "4    Changhua Christian Hospital, Changhua City, Ta...  images   \n",
      "..                                                 ...     ...   \n",
      "945                                     United Kingdom  images   \n",
      "946                                     United Kingdom  images   \n",
      "947                                                NaN  images   \n",
      "948                                                NaN  images   \n",
      "949                                                NaN  images   \n",
      "\n",
      "                                              filename                   doi  \\\n",
      "0    auntminnie-a-2020_01_28_23_51_6665_2020_01_28_...  10.1056/nejmc2001272   \n",
      "1    auntminnie-b-2020_01_28_23_51_6665_2020_01_28_...  10.1056/nejmc2001272   \n",
      "2    auntminnie-c-2020_01_28_23_51_6665_2020_01_28_...  10.1056/nejmc2001272   \n",
      "3    auntminnie-d-2020_01_28_23_51_6665_2020_01_28_...  10.1056/nejmc2001272   \n",
      "4                                nejmc2001573_f1a.jpeg  10.1056/NEJMc2001573   \n",
      "..                                                 ...                   ...   \n",
      "945        072ecaf8c60a81980abb57150a8016_jumbo-9.jpeg                   NaN   \n",
      "946        ff33c406392b968d483174c97eb857_jumbo-9.jpeg                   NaN   \n",
      "947                                     000001-266.jpg                   NaN   \n",
      "948                                     000001-272.jpg                   NaN   \n",
      "949                                     000002-268.jpg                   NaN   \n",
      "\n",
      "                                                   url          license  \\\n",
      "0    https://www.nejm.org/doi/full/10.1056/NEJMc200...              NaN   \n",
      "1    https://www.nejm.org/doi/full/10.1056/NEJMc200...              NaN   \n",
      "2    https://www.nejm.org/doi/full/10.1056/NEJMc200...              NaN   \n",
      "3    https://www.nejm.org/doi/full/10.1056/NEJMc200...              NaN   \n",
      "4    https://www.nejm.org/doi/full/10.1056/NEJMc200...              NaN   \n",
      "..                                                 ...              ...   \n",
      "945  https://radiopaedia.org/cases/multifocal-round...      CC BY-NC-SA   \n",
      "946  https://radiopaedia.org/cases/multifocal-round...      CC BY-NC-SA   \n",
      "947                   https://www.eurorad.org/case/947  CC BY-NC-SA 4.0   \n",
      "948                   https://www.eurorad.org/case/934  CC BY-NC-SA 4.0   \n",
      "949                   https://www.eurorad.org/case/934  CC BY-NC-SA 4.0   \n",
      "\n",
      "                                        clinical_notes  \\\n",
      "0    On January 22, 2020, a 65-year-old man with a ...   \n",
      "1    On January 22, 2020, a 65-year-old man with a ...   \n",
      "2    On January 22, 2020, a 65-year-old man with a ...   \n",
      "3    On January 22, 2020, a 65-year-old man with a ...   \n",
      "4     diffuse infiltrates in the bilateral lower lungs   \n",
      "..                                                 ...   \n",
      "945  Asthmatic. Shortness of breath and wheeze. Rou...   \n",
      "946  Asthmatic. Shortness of breath and wheeze. The...   \n",
      "947  fire-eater accidentally ingested a paraffin mi...   \n",
      "948  The patient, a heavy smoker, was referred to t...   \n",
      "949  The patient, a heavy smoker, was referred to t...   \n",
      "\n",
      "                                           other_notes Unnamed: 29  \n",
      "0                                                  NaN         NaN  \n",
      "1                                                  NaN         NaN  \n",
      "2                                                  NaN         NaN  \n",
      "3                                                  NaN         NaN  \n",
      "4                                                  NaN         NaN  \n",
      "..                                                 ...         ...  \n",
      "945  Case courtesy of Dr Ian Bickle, Radiopaedia.or...         NaN  \n",
      "946  Case courtesy of Dr Ian Bickle, Radiopaedia.or...         NaN  \n",
      "947                                                NaN         NaN  \n",
      "948                                                NaN         NaN  \n",
      "949                                                NaN         NaN  \n",
      "\n",
      "[950 rows x 30 columns]\n"
     ]
    }
   ],
   "source": [
    "col_subset = metadata_table.loc[:,'patientid':] # : denotes i want all.\n",
    "\n",
    "print(col_subset)"
   ]
  },
  {
   "cell_type": "markdown",
   "metadata": {},
   "source": [
    "### Indexing and slicing the table by rows, or columns \n",
    "\n",
    "`pandas.DataFrame` can be subset by row or columns using `.loc` (by logic or string) or `.iloc` (by numerical index) methods. "
   ]
  },
  {
   "cell_type": "code",
   "execution_count": 154,
   "metadata": {},
   "outputs": [
    {
     "name": "stdout",
     "output_type": "stream",
     "text": [
      "    patientid  offset sex   age                   finding RT_PCR_positive\n",
      "0           2     0.0   M  65.0  Pneumonia/Viral/COVID-19               Y\n",
      "1           2     3.0   M  65.0  Pneumonia/Viral/COVID-19               Y\n",
      "2           2     5.0   M  65.0  Pneumonia/Viral/COVID-19               Y\n",
      "3           2     6.0   M  65.0  Pneumonia/Viral/COVID-19               Y\n",
      "4           4     0.0   F  52.0  Pneumonia/Viral/COVID-19               Y\n",
      "..        ...     ...  ..   ...                       ...             ...\n",
      "945       479     0.0   F  40.0                 Pneumonia             NaN\n",
      "946       479    70.0   F  40.0                 Pneumonia             NaN\n",
      "947       480     NaN   M  26.0                 Pneumonia             NaN\n",
      "948       481     NaN   M  50.0                 Pneumonia             NaN\n",
      "949       481     NaN   M  50.0                 Pneumonia             NaN\n",
      "\n",
      "[950 rows x 6 columns]\n",
      "==============================\n",
      "    patientid  offset sex   age                   finding RT_PCR_positive\n",
      "0           2     0.0   M  65.0  Pneumonia/Viral/COVID-19               Y\n",
      "1           2     3.0   M  65.0  Pneumonia/Viral/COVID-19               Y\n",
      "2           2     5.0   M  65.0  Pneumonia/Viral/COVID-19               Y\n",
      "3           2     6.0   M  65.0  Pneumonia/Viral/COVID-19               Y\n",
      "4           4     0.0   F  52.0  Pneumonia/Viral/COVID-19               Y\n",
      "..        ...     ...  ..   ...                       ...             ...\n",
      "945       479     0.0   F  40.0                 Pneumonia             NaN\n",
      "946       479    70.0   F  40.0                 Pneumonia             NaN\n",
      "947       480     NaN   M  26.0                 Pneumonia             NaN\n",
      "948       481     NaN   M  50.0                 Pneumonia             NaN\n",
      "949       481     NaN   M  50.0                 Pneumonia             NaN\n",
      "\n",
      "[950 rows x 6 columns]\n",
      "==============================\n",
      "++++++++++++++++++++++++++++++\n",
      "    patientid  offset sex   age    finding RT_PCR_positive survival intubated  \\\n",
      "945       479     0.0   F  40.0  Pneumonia             NaN      NaN       NaN   \n",
      "946       479    70.0   F  40.0  Pneumonia             NaN      NaN       NaN   \n",
      "\n",
      "    intubation_present went_icu  ... date        location  folder  \\\n",
      "945                NaN      NaN  ...  NaN  United Kingdom  images   \n",
      "946                NaN      NaN  ...  NaN  United Kingdom  images   \n",
      "\n",
      "                                        filename  doi  \\\n",
      "945  072ecaf8c60a81980abb57150a8016_jumbo-9.jpeg  NaN   \n",
      "946  ff33c406392b968d483174c97eb857_jumbo-9.jpeg  NaN   \n",
      "\n",
      "                                                   url      license  \\\n",
      "945  https://radiopaedia.org/cases/multifocal-round...  CC BY-NC-SA   \n",
      "946  https://radiopaedia.org/cases/multifocal-round...  CC BY-NC-SA   \n",
      "\n",
      "                                        clinical_notes  \\\n",
      "945  Asthmatic. Shortness of breath and wheeze. Rou...   \n",
      "946  Asthmatic. Shortness of breath and wheeze. The...   \n",
      "\n",
      "                                           other_notes Unnamed: 29  \n",
      "945  Case courtesy of Dr Ian Bickle, Radiopaedia.or...         NaN  \n",
      "946  Case courtesy of Dr Ian Bickle, Radiopaedia.or...         NaN  \n",
      "\n",
      "[2 rows x 30 columns]\n",
      "++++++++++++++++++++++++++++++\n",
      "    patientid  offset sex   age    finding RT_PCR_positive\n",
      "945       479     0.0   F  40.0  Pneumonia             NaN\n",
      "946       479    70.0   F  40.0  Pneumonia             NaN\n"
     ]
    }
   ],
   "source": [
    "import pandas as pd # re-import to make it available globally\n",
    "\n",
    "# we can subset the first columns, from 'patientid' (1st column, index 0) up to 'RT_PCR_positive' (6th column, index 5) inclusive\n",
    "subset_col_table_by_column_name = metadata_table.loc[:,'patientid':'RT_PCR_positive'] # subset by string\n",
    "subset_col_table_by_column_index = metadata_table.iloc[:,0:6] # subset by string\n",
    "\n",
    "print(subset_col_table_by_column_name) # note this looks table-like however a column is 1D and therefore a pandas.Series\n",
    "print('==============================')\n",
    "print(subset_col_table_by_column_index)\n",
    "print('==============================')\n",
    "\n",
    "# Let's find all rows associated with patientid=2\n",
    "subset_patientid_2_data = metadata_table.loc[metadata_table['patientid'].values=='479']\n",
    "subset_col_subset_patientid_2_data = subset_col_table_by_column_index.loc[metadata_table['patientid'].values=='479']\n",
    "\n",
    "print('++++++++++++++++++++++++++++++')\n",
    "print(subset_patientid_2_data)\n",
    "print('++++++++++++++++++++++++++++++')\n",
    "print(subset_col_subset_patientid_2_data)"
   ]
  },
  {
   "cell_type": "code",
   "execution_count": 155,
   "metadata": {},
   "outputs": [
    {
     "name": "stdout",
     "output_type": "stream",
     "text": [
      "subsetting by index works\n",
      "patientid                479\n",
      "offset                     0\n",
      "sex                        F\n",
      "age                       40\n",
      "finding            Pneumonia\n",
      "RT_PCR_positive          NaN\n",
      "Name: 945, dtype: object\n",
      "=================================\n",
      "=================================\n",
      "subsetting by name must use the name in original table, else you will get keyerror\n"
     ]
    },
    {
     "ename": "KeyError",
     "evalue": "0",
     "output_type": "error",
     "traceback": [
      "\u001b[1;31m---------------------------------------------------------------------------\u001b[0m",
      "\u001b[1;31mKeyError\u001b[0m                                  Traceback (most recent call last)",
      "\u001b[1;32m~\\anaconda3\\lib\\site-packages\\pandas\\core\\indexes\\base.py\u001b[0m in \u001b[0;36mget_loc\u001b[1;34m(self, key, method, tolerance)\u001b[0m\n\u001b[0;32m   2894\u001b[0m             \u001b[1;32mtry\u001b[0m\u001b[1;33m:\u001b[0m\u001b[1;33m\u001b[0m\u001b[1;33m\u001b[0m\u001b[0m\n\u001b[1;32m-> 2895\u001b[1;33m                 \u001b[1;32mreturn\u001b[0m \u001b[0mself\u001b[0m\u001b[1;33m.\u001b[0m\u001b[0m_engine\u001b[0m\u001b[1;33m.\u001b[0m\u001b[0mget_loc\u001b[0m\u001b[1;33m(\u001b[0m\u001b[0mcasted_key\u001b[0m\u001b[1;33m)\u001b[0m\u001b[1;33m\u001b[0m\u001b[1;33m\u001b[0m\u001b[0m\n\u001b[0m\u001b[0;32m   2896\u001b[0m             \u001b[1;32mexcept\u001b[0m \u001b[0mKeyError\u001b[0m \u001b[1;32mas\u001b[0m \u001b[0merr\u001b[0m\u001b[1;33m:\u001b[0m\u001b[1;33m\u001b[0m\u001b[1;33m\u001b[0m\u001b[0m\n",
      "\u001b[1;32mpandas\\_libs\\index.pyx\u001b[0m in \u001b[0;36mpandas._libs.index.IndexEngine.get_loc\u001b[1;34m()\u001b[0m\n",
      "\u001b[1;32mpandas\\_libs\\index.pyx\u001b[0m in \u001b[0;36mpandas._libs.index.IndexEngine.get_loc\u001b[1;34m()\u001b[0m\n",
      "\u001b[1;32mpandas\\_libs\\hashtable_class_helper.pxi\u001b[0m in \u001b[0;36mpandas._libs.hashtable.Int64HashTable.get_item\u001b[1;34m()\u001b[0m\n",
      "\u001b[1;32mpandas\\_libs\\hashtable_class_helper.pxi\u001b[0m in \u001b[0;36mpandas._libs.hashtable.Int64HashTable.get_item\u001b[1;34m()\u001b[0m\n",
      "\u001b[1;31mKeyError\u001b[0m: 0",
      "\nThe above exception was the direct cause of the following exception:\n",
      "\u001b[1;31mKeyError\u001b[0m                                  Traceback (most recent call last)",
      "\u001b[1;32m<ipython-input-155-11aa20a0484d>\u001b[0m in \u001b[0;36m<module>\u001b[1;34m\u001b[0m\n\u001b[0;32m      7\u001b[0m \u001b[0mprint\u001b[0m\u001b[1;33m(\u001b[0m\u001b[1;34m'================================='\u001b[0m\u001b[1;33m)\u001b[0m\u001b[1;33m\u001b[0m\u001b[1;33m\u001b[0m\u001b[0m\n\u001b[0;32m      8\u001b[0m \u001b[0mprint\u001b[0m\u001b[1;33m(\u001b[0m\u001b[1;34m'subsetting by name must use the name in original table, else you will get keyerror'\u001b[0m\u001b[1;33m)\u001b[0m\u001b[1;33m\u001b[0m\u001b[1;33m\u001b[0m\u001b[0m\n\u001b[1;32m----> 9\u001b[1;33m \u001b[0mprint\u001b[0m\u001b[1;33m(\u001b[0m\u001b[0msubset_col_subset_patientid_2_data\u001b[0m\u001b[1;33m.\u001b[0m\u001b[0mloc\u001b[0m\u001b[1;33m[\u001b[0m\u001b[1;36m0\u001b[0m\u001b[1;33m]\u001b[0m\u001b[1;33m)\u001b[0m\u001b[1;33m\u001b[0m\u001b[1;33m\u001b[0m\u001b[0m\n\u001b[0m",
      "\u001b[1;32m~\\anaconda3\\lib\\site-packages\\pandas\\core\\indexing.py\u001b[0m in \u001b[0;36m__getitem__\u001b[1;34m(self, key)\u001b[0m\n\u001b[0;32m    877\u001b[0m \u001b[1;33m\u001b[0m\u001b[0m\n\u001b[0;32m    878\u001b[0m             \u001b[0mmaybe_callable\u001b[0m \u001b[1;33m=\u001b[0m \u001b[0mcom\u001b[0m\u001b[1;33m.\u001b[0m\u001b[0mapply_if_callable\u001b[0m\u001b[1;33m(\u001b[0m\u001b[0mkey\u001b[0m\u001b[1;33m,\u001b[0m \u001b[0mself\u001b[0m\u001b[1;33m.\u001b[0m\u001b[0mobj\u001b[0m\u001b[1;33m)\u001b[0m\u001b[1;33m\u001b[0m\u001b[1;33m\u001b[0m\u001b[0m\n\u001b[1;32m--> 879\u001b[1;33m             \u001b[1;32mreturn\u001b[0m \u001b[0mself\u001b[0m\u001b[1;33m.\u001b[0m\u001b[0m_getitem_axis\u001b[0m\u001b[1;33m(\u001b[0m\u001b[0mmaybe_callable\u001b[0m\u001b[1;33m,\u001b[0m \u001b[0maxis\u001b[0m\u001b[1;33m=\u001b[0m\u001b[0maxis\u001b[0m\u001b[1;33m)\u001b[0m\u001b[1;33m\u001b[0m\u001b[1;33m\u001b[0m\u001b[0m\n\u001b[0m\u001b[0;32m    880\u001b[0m \u001b[1;33m\u001b[0m\u001b[0m\n\u001b[0;32m    881\u001b[0m     \u001b[1;32mdef\u001b[0m \u001b[0m_is_scalar_access\u001b[0m\u001b[1;33m(\u001b[0m\u001b[0mself\u001b[0m\u001b[1;33m,\u001b[0m \u001b[0mkey\u001b[0m\u001b[1;33m:\u001b[0m \u001b[0mTuple\u001b[0m\u001b[1;33m)\u001b[0m\u001b[1;33m:\u001b[0m\u001b[1;33m\u001b[0m\u001b[1;33m\u001b[0m\u001b[0m\n",
      "\u001b[1;32m~\\anaconda3\\lib\\site-packages\\pandas\\core\\indexing.py\u001b[0m in \u001b[0;36m_getitem_axis\u001b[1;34m(self, key, axis)\u001b[0m\n\u001b[0;32m   1108\u001b[0m         \u001b[1;31m# fall thru to straight lookup\u001b[0m\u001b[1;33m\u001b[0m\u001b[1;33m\u001b[0m\u001b[1;33m\u001b[0m\u001b[0m\n\u001b[0;32m   1109\u001b[0m         \u001b[0mself\u001b[0m\u001b[1;33m.\u001b[0m\u001b[0m_validate_key\u001b[0m\u001b[1;33m(\u001b[0m\u001b[0mkey\u001b[0m\u001b[1;33m,\u001b[0m \u001b[0maxis\u001b[0m\u001b[1;33m)\u001b[0m\u001b[1;33m\u001b[0m\u001b[1;33m\u001b[0m\u001b[0m\n\u001b[1;32m-> 1110\u001b[1;33m         \u001b[1;32mreturn\u001b[0m \u001b[0mself\u001b[0m\u001b[1;33m.\u001b[0m\u001b[0m_get_label\u001b[0m\u001b[1;33m(\u001b[0m\u001b[0mkey\u001b[0m\u001b[1;33m,\u001b[0m \u001b[0maxis\u001b[0m\u001b[1;33m=\u001b[0m\u001b[0maxis\u001b[0m\u001b[1;33m)\u001b[0m\u001b[1;33m\u001b[0m\u001b[1;33m\u001b[0m\u001b[0m\n\u001b[0m\u001b[0;32m   1111\u001b[0m \u001b[1;33m\u001b[0m\u001b[0m\n\u001b[0;32m   1112\u001b[0m     \u001b[1;32mdef\u001b[0m \u001b[0m_get_slice_axis\u001b[0m\u001b[1;33m(\u001b[0m\u001b[0mself\u001b[0m\u001b[1;33m,\u001b[0m \u001b[0mslice_obj\u001b[0m\u001b[1;33m:\u001b[0m \u001b[0mslice\u001b[0m\u001b[1;33m,\u001b[0m \u001b[0maxis\u001b[0m\u001b[1;33m:\u001b[0m \u001b[0mint\u001b[0m\u001b[1;33m)\u001b[0m\u001b[1;33m:\u001b[0m\u001b[1;33m\u001b[0m\u001b[1;33m\u001b[0m\u001b[0m\n",
      "\u001b[1;32m~\\anaconda3\\lib\\site-packages\\pandas\\core\\indexing.py\u001b[0m in \u001b[0;36m_get_label\u001b[1;34m(self, label, axis)\u001b[0m\n\u001b[0;32m   1057\u001b[0m     \u001b[1;32mdef\u001b[0m \u001b[0m_get_label\u001b[0m\u001b[1;33m(\u001b[0m\u001b[0mself\u001b[0m\u001b[1;33m,\u001b[0m \u001b[0mlabel\u001b[0m\u001b[1;33m,\u001b[0m \u001b[0maxis\u001b[0m\u001b[1;33m:\u001b[0m \u001b[0mint\u001b[0m\u001b[1;33m)\u001b[0m\u001b[1;33m:\u001b[0m\u001b[1;33m\u001b[0m\u001b[1;33m\u001b[0m\u001b[0m\n\u001b[0;32m   1058\u001b[0m         \u001b[1;31m# GH#5667 this will fail if the label is not present in the axis.\u001b[0m\u001b[1;33m\u001b[0m\u001b[1;33m\u001b[0m\u001b[1;33m\u001b[0m\u001b[0m\n\u001b[1;32m-> 1059\u001b[1;33m         \u001b[1;32mreturn\u001b[0m \u001b[0mself\u001b[0m\u001b[1;33m.\u001b[0m\u001b[0mobj\u001b[0m\u001b[1;33m.\u001b[0m\u001b[0mxs\u001b[0m\u001b[1;33m(\u001b[0m\u001b[0mlabel\u001b[0m\u001b[1;33m,\u001b[0m \u001b[0maxis\u001b[0m\u001b[1;33m=\u001b[0m\u001b[0maxis\u001b[0m\u001b[1;33m)\u001b[0m\u001b[1;33m\u001b[0m\u001b[1;33m\u001b[0m\u001b[0m\n\u001b[0m\u001b[0;32m   1060\u001b[0m \u001b[1;33m\u001b[0m\u001b[0m\n\u001b[0;32m   1061\u001b[0m     \u001b[1;32mdef\u001b[0m \u001b[0m_handle_lowerdim_multi_index_axis0\u001b[0m\u001b[1;33m(\u001b[0m\u001b[0mself\u001b[0m\u001b[1;33m,\u001b[0m \u001b[0mtup\u001b[0m\u001b[1;33m:\u001b[0m \u001b[0mTuple\u001b[0m\u001b[1;33m)\u001b[0m\u001b[1;33m:\u001b[0m\u001b[1;33m\u001b[0m\u001b[1;33m\u001b[0m\u001b[0m\n",
      "\u001b[1;32m~\\anaconda3\\lib\\site-packages\\pandas\\core\\generic.py\u001b[0m in \u001b[0;36mxs\u001b[1;34m(self, key, axis, level, drop_level)\u001b[0m\n\u001b[0;32m   3489\u001b[0m             \u001b[0mloc\u001b[0m\u001b[1;33m,\u001b[0m \u001b[0mnew_index\u001b[0m \u001b[1;33m=\u001b[0m \u001b[0mself\u001b[0m\u001b[1;33m.\u001b[0m\u001b[0mindex\u001b[0m\u001b[1;33m.\u001b[0m\u001b[0mget_loc_level\u001b[0m\u001b[1;33m(\u001b[0m\u001b[0mkey\u001b[0m\u001b[1;33m,\u001b[0m \u001b[0mdrop_level\u001b[0m\u001b[1;33m=\u001b[0m\u001b[0mdrop_level\u001b[0m\u001b[1;33m)\u001b[0m\u001b[1;33m\u001b[0m\u001b[1;33m\u001b[0m\u001b[0m\n\u001b[0;32m   3490\u001b[0m         \u001b[1;32melse\u001b[0m\u001b[1;33m:\u001b[0m\u001b[1;33m\u001b[0m\u001b[1;33m\u001b[0m\u001b[0m\n\u001b[1;32m-> 3491\u001b[1;33m             \u001b[0mloc\u001b[0m \u001b[1;33m=\u001b[0m \u001b[0mself\u001b[0m\u001b[1;33m.\u001b[0m\u001b[0mindex\u001b[0m\u001b[1;33m.\u001b[0m\u001b[0mget_loc\u001b[0m\u001b[1;33m(\u001b[0m\u001b[0mkey\u001b[0m\u001b[1;33m)\u001b[0m\u001b[1;33m\u001b[0m\u001b[1;33m\u001b[0m\u001b[0m\n\u001b[0m\u001b[0;32m   3492\u001b[0m \u001b[1;33m\u001b[0m\u001b[0m\n\u001b[0;32m   3493\u001b[0m             \u001b[1;32mif\u001b[0m \u001b[0misinstance\u001b[0m\u001b[1;33m(\u001b[0m\u001b[0mloc\u001b[0m\u001b[1;33m,\u001b[0m \u001b[0mnp\u001b[0m\u001b[1;33m.\u001b[0m\u001b[0mndarray\u001b[0m\u001b[1;33m)\u001b[0m\u001b[1;33m:\u001b[0m\u001b[1;33m\u001b[0m\u001b[1;33m\u001b[0m\u001b[0m\n",
      "\u001b[1;32m~\\anaconda3\\lib\\site-packages\\pandas\\core\\indexes\\base.py\u001b[0m in \u001b[0;36mget_loc\u001b[1;34m(self, key, method, tolerance)\u001b[0m\n\u001b[0;32m   2895\u001b[0m                 \u001b[1;32mreturn\u001b[0m \u001b[0mself\u001b[0m\u001b[1;33m.\u001b[0m\u001b[0m_engine\u001b[0m\u001b[1;33m.\u001b[0m\u001b[0mget_loc\u001b[0m\u001b[1;33m(\u001b[0m\u001b[0mcasted_key\u001b[0m\u001b[1;33m)\u001b[0m\u001b[1;33m\u001b[0m\u001b[1;33m\u001b[0m\u001b[0m\n\u001b[0;32m   2896\u001b[0m             \u001b[1;32mexcept\u001b[0m \u001b[0mKeyError\u001b[0m \u001b[1;32mas\u001b[0m \u001b[0merr\u001b[0m\u001b[1;33m:\u001b[0m\u001b[1;33m\u001b[0m\u001b[1;33m\u001b[0m\u001b[0m\n\u001b[1;32m-> 2897\u001b[1;33m                 \u001b[1;32mraise\u001b[0m \u001b[0mKeyError\u001b[0m\u001b[1;33m(\u001b[0m\u001b[0mkey\u001b[0m\u001b[1;33m)\u001b[0m \u001b[1;32mfrom\u001b[0m \u001b[0merr\u001b[0m\u001b[1;33m\u001b[0m\u001b[1;33m\u001b[0m\u001b[0m\n\u001b[0m\u001b[0;32m   2898\u001b[0m \u001b[1;33m\u001b[0m\u001b[0m\n\u001b[0;32m   2899\u001b[0m         \u001b[1;32mif\u001b[0m \u001b[0mtolerance\u001b[0m \u001b[1;32mis\u001b[0m \u001b[1;32mnot\u001b[0m \u001b[1;32mNone\u001b[0m\u001b[1;33m:\u001b[0m\u001b[1;33m\u001b[0m\u001b[1;33m\u001b[0m\u001b[0m\n",
      "\u001b[1;31mKeyError\u001b[0m: 0"
     ]
    }
   ],
   "source": [
    "# be careful after subsetting by row if doing it by name, this is because the row index doesn't change!, so the name is that of the original!\n",
    "\n",
    "print('subsetting by index works')\n",
    "print(subset_col_subset_patientid_2_data.iloc[0])\n",
    "\n",
    "print('=================================')\n",
    "print('=================================')\n",
    "print('subsetting by name must use the name in original table, else you will get keyerror')\n",
    "print(subset_col_subset_patientid_2_data.loc[0])"
   ]
  },
  {
   "cell_type": "markdown",
   "metadata": {},
   "source": [
    "There are some quirks for working directly with `pandas.Series`, `pandas.DataFrame` and performing mathematical or plotting operations using e.g. `numpy` and `matplotlib`. Therefore it is valuable to know how to convert to pure `numpy` arrays. The downside is that we lose the associated row and columns information. "
   ]
  },
  {
   "cell_type": "markdown",
   "metadata": {},
   "source": [
    "### Let's compare Pandas vs Our Pure Python naive line-by-line csv reading code\n",
    "\n",
    "First let's define a function for the previous line-by-line reading code"
   ]
  },
  {
   "cell_type": "code",
   "execution_count": 156,
   "metadata": {},
   "outputs": [],
   "source": [
    "def read_csv_line_by_line(filepath):\n",
    "    \n",
    "    metadata_contents = []\n",
    "\n",
    "    with open(metadata_file, 'r', encoding='utf-8') as f:\n",
    "        for line in f: # note the for loop iteration.\n",
    "            # strip blank space, split by comma\n",
    "            line_contents = line.strip().split(',')\n",
    "            # append into empty list\n",
    "            metadata_contents.append(line_contents)\n",
    "\n",
    "    return metadata_contents"
   ]
  },
  {
   "cell_type": "markdown",
   "metadata": {},
   "source": [
    "We use the `time` function from the `time` python module to time both approaches to reading the .csv file"
   ]
  },
  {
   "cell_type": "code",
   "execution_count": 157,
   "metadata": {},
   "outputs": [
    {
     "name": "stdout",
     "output_type": "stream",
     "text": [
      "pandas reading time:  0.029920339584350586\n",
      "python reading time:  0.022936582565307617\n"
     ]
    }
   ],
   "source": [
    "import time\n",
    "\n",
    "# first time pandas\n",
    "t1_pandas = time.time() # start the clock\n",
    "metadata_table_pandas = pandas_read_csv(metadata_file) \n",
    "t2_pandas = time.time() # stop the clock\n",
    "print('pandas reading time: ', t2_pandas-t1_pandas)\n",
    "\n",
    "# second time pure python line-by-line\n",
    "t1_python = time.time()\n",
    "metadata_table_python = read_csv_line_by_line(metadata_file)\n",
    "t2_python = time.time()\n",
    "print('python reading time: ', t2_python-t1_python)"
   ]
  },
  {
   "cell_type": "markdown",
   "metadata": {},
   "source": [
    "**Wow! pure python was faster than pandas!** This is a little bit of a warning. Library does not equal fast. A single function may be hiding many steps underneath which slow-down the code. \n",
    "\n",
    "Our test here was a little unfair, since we don't return an array. Let's use numpy to revise the line-by-line code to return the column names and an array of values, which is effectively what pandas offers. "
   ]
  },
  {
   "cell_type": "code",
   "execution_count": 158,
   "metadata": {},
   "outputs": [
    {
     "name": "stdout",
     "output_type": "stream",
     "text": [
      "pandas reading time:  0.029920339584350586\n",
      "python reading time:  0.022936582565307617\n",
      "python + numpy conversion reading time:  0.01695561408996582\n"
     ]
    }
   ],
   "source": [
    "def read_csv_line_by_line_numpy(filepath):\n",
    "    import numpy as np\n",
    "    \n",
    "    metadata_contents = []\n",
    "\n",
    "    with open(metadata_file, 'r', encoding='utf-8') as f:\n",
    "        for line in f: # note the for loop iteration.\n",
    "            # strip blank space, split by comma\n",
    "            line_contents = line.strip().split(',')\n",
    "            # append into empty list\n",
    "            metadata_contents.append(line_contents)\n",
    "    columns = np.hstack(metadata_contents[0]) # this is the first line of file, and we use np.hstack to turn into 1D array\n",
    "    data = np.array(metadata_contents[1:],dtype=object) # we use np.array to convert the rest to numpy array\n",
    "\n",
    "    return data, columns # note we return two things now.\n",
    "\n",
    "# third time pure python line-by-line with numpy array conversion\n",
    "t1_python_numpy = time.time()\n",
    "metadata_table_numpy, metadata_table_columns = read_csv_line_by_line_numpy(metadata_file)\n",
    "t2_python_numpy = time.time()\n",
    "\n",
    "print('pandas reading time: ', t2_pandas-t1_pandas)\n",
    "print('python reading time: ', t2_python-t1_python)\n",
    "print('python + numpy conversion reading time: ', t2_python_numpy-t1_python_numpy)"
   ]
  },
  {
   "cell_type": "markdown",
   "metadata": {},
   "source": [
    "python + numpy conversion is still faster! but there is a problem. We have a warning of ragged nested sequences. This is not good. A table should be a regular n_rows x n_cols matrix. \n",
    "\n",
    "We check the shape of the numpy array:"
   ]
  },
  {
   "cell_type": "code",
   "execution_count": 159,
   "metadata": {},
   "outputs": [
    {
     "name": "stdout",
     "output_type": "stream",
     "text": [
      "python + numpy data shape (950,)\n"
     ]
    }
   ],
   "source": [
    "print('python + numpy data shape', metadata_table_numpy.shape)"
   ]
  },
  {
   "cell_type": "markdown",
   "metadata": {},
   "source": [
    "This is 1-dimensional when it should be 2!\n",
    "\n",
    "What's the problem? It is because our code is splitting each line by looking for commans ','. However, the comma is not exclusively separating columns. Some column entries such as `data`, and `clinical_notes` contain ',' in their text! \n",
    "\n",
    "`pandas` was able to correctly read the table as it incorporates proof-checking, based on the expected number of columns, parsed from the first line. We need to write much more code to detect and correct for the extra commas. This is generally not worth it and we might not get it right! More general handling and treatment of potential errors is why even though it may be slower, it is better practice to use a well-developed library.  "
   ]
  },
  {
   "cell_type": "markdown",
   "metadata": {},
   "source": [
    "You will now write control statements using the metadata_contents list :\n",
    "\n",
    "Try to do as many as you can - you can team up."
   ]
  },
  {
   "cell_type": "markdown",
   "metadata": {},
   "source": [
    "## 2. Getting the data we want from the metadata table, now using library functions\n",
    "\n",
    "We can revisit the exercises you previously did with loops and replace them. We can also start viewing the associated images."
   ]
  },
  {
   "cell_type": "markdown",
   "metadata": {},
   "source": [
    "#### Exercise 1: Create an array for `patientid` from `metadata_table`. Hint: answer already given above."
   ]
  },
  {
   "cell_type": "code",
   "execution_count": 160,
   "metadata": {},
   "outputs": [],
   "source": [
    "# Feel free to write code in here, or else use your favorite Python IDE."
   ]
  },
  {
   "cell_type": "markdown",
   "metadata": {},
   "source": [
    "#### Exercise 2: Find the number of unique `patientid` as well as the unique ids . Hint: `numpy.unique`"
   ]
  },
  {
   "cell_type": "code",
   "execution_count": 161,
   "metadata": {},
   "outputs": [],
   "source": [
    "# Feel free to write code in here, or else use your favorite Python IDE."
   ]
  },
  {
   "cell_type": "markdown",
   "metadata": {},
   "source": [
    "#### Exercise 3: Find the `age` of each unique `patientid`."
   ]
  },
  {
   "cell_type": "code",
   "execution_count": 162,
   "metadata": {},
   "outputs": [],
   "source": [
    "# Feel free to write code in here, or else use your favorite Python IDE."
   ]
  },
  {
   "cell_type": "markdown",
   "metadata": {},
   "source": [
    "#### Exercise 4: Find the `finding` of each unique `patientid`. How many unique `finding` are there?"
   ]
  },
  {
   "cell_type": "code",
   "execution_count": 163,
   "metadata": {},
   "outputs": [],
   "source": [
    "# Feel free to write code in here, or else use your favorite Python IDE."
   ]
  },
  {
   "cell_type": "markdown",
   "metadata": {},
   "source": [
    "## 3. Exploring and visualizing the data\n",
    "\n",
    "We can use the various libraries to make plots, and explore the data further to get some insights."
   ]
  },
  {
   "cell_type": "markdown",
   "metadata": {},
   "source": [
    "####  Exercise 5: Plot a histogram of `age` using matplotlib. You can import matplotlib with `import pylab as plt`"
   ]
  },
  {
   "cell_type": "code",
   "execution_count": 164,
   "metadata": {},
   "outputs": [],
   "source": [
    "# Feel free to write code in here, or else use your favorite Python IDE."
   ]
  },
  {
   "cell_type": "markdown",
   "metadata": {},
   "source": [
    "####  Exercise 6: Write code to find the image path/s associated with each unique patient. Use `scikit-image` to read and `matplotlib` to display them.  "
   ]
  },
  {
   "cell_type": "code",
   "execution_count": 165,
   "metadata": {},
   "outputs": [],
   "source": [
    "# Feel free to write code in here, or else use your favorite Python IDE."
   ]
  },
  {
   "cell_type": "markdown",
   "metadata": {},
   "source": [
    "####  Exercise 7: Write code to find the image path/s associated with each unique patient. Use `scikit-image` to read and `matplotlib` to display them.  "
   ]
  },
  {
   "cell_type": "code",
   "execution_count": 166,
   "metadata": {},
   "outputs": [],
   "source": [
    "# Feel free to write code in here, or else use your favorite Python IDE."
   ]
  },
  {
   "cell_type": "markdown",
   "metadata": {},
   "source": [
    "## Extension: Processing images and machine learning\n",
    "\n",
    "Generally, working directly on individual pixel intensity is not very informative. Consequently, features are extracted from images to form a vector per image which is then input to machine learning algorithms. This part will explore this a little using scikit-image and scikit-learn."
   ]
  },
  {
   "cell_type": "markdown",
   "metadata": {},
   "source": [
    "#### Extension exercise 1: (PCA on raw image intensities) \n",
    "Choose 1 image per unique patient. read each image using scikit image. The image is 2-dimensional, you will then flatten the image into 1D vector to apply PCA to."
   ]
  },
  {
   "cell_type": "code",
   "execution_count": 167,
   "metadata": {},
   "outputs": [],
   "source": [
    "# Feel free to write code in here, or else use your favorite Python IDE. \n",
    "# Below is some code comments to outline the logic to get started \n",
    "\n",
    "\n",
    "# 1. Write a loop over unique patients and use one image to describe him/her, if there are multiple e.g. the first image file.\n",
    "\n",
    "# 2. For each patient image, read it in using img=skimage.io.imread(imgfile), if color i.e. img.shape is 3 numbers, last of which is 3. then make it grayscale e.g. using skimage.color.rgb2gray\n",
    "\n",
    "# 3. Flatten the image to form a 1-D vector, i.e. img_flat = img.ravel(). \n",
    "\n",
    "# 4. Perform PCA of all flattened images using scikit-learn library into 2 dimension i.e. n_components=2. This is done using sklearn.decomposition.PCA. See example at https://scikit-learn.org/1.5/auto_examples/decomposition/plot_pca_iris.html for example usage\n",
    "\n",
    "# 5. Use matplotlib to plot the 2-dimensions, and color by `finding`"
   ]
  },
  {
   "cell_type": "markdown",
   "metadata": {},
   "source": [
    "#### Extension exercise 2: (Use ORB features to encode each image to train a SVM classifier)\n",
    "Again, use 1 image per unique patient. Read this scikit-image [example](https://scikit-image.org/docs/stable/auto_examples/features_detection/plot_fisher_vector.html#sphx-glr-auto-examples-features-detection-plot-fisher-vector-py). Then modify the example code to extract ORB image features for each image, to train a classifier to predict `finding`.   HINT: The target in this case, `finding` is not numerical. You will need to use [sklearn.preprocessing.LabelEncoder](https://scikit-learn.org/1.5/modules/generated/sklearn.preprocessing.LabelEncoder.html#sklearn.preprocessing.LabelEncoder) to transform into integers for training"
   ]
  },
  {
   "cell_type": "code",
   "execution_count": null,
   "metadata": {},
   "outputs": [],
   "source": []
  }
 ],
 "metadata": {
  "kernelspec": {
   "display_name": "Python 3",
   "language": "python",
   "name": "python3"
  },
  "language_info": {
   "codemirror_mode": {
    "name": "ipython",
    "version": 3
   },
   "file_extension": ".py",
   "mimetype": "text/x-python",
   "name": "python",
   "nbconvert_exporter": "python",
   "pygments_lexer": "ipython3",
   "version": "3.8.5"
  }
 },
 "nbformat": 4,
 "nbformat_minor": 5
}
