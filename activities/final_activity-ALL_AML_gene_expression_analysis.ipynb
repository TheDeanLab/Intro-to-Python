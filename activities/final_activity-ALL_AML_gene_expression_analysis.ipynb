{
 "cells": [
  {
   "cell_type": "markdown",
   "metadata": {},
   "source": [
    "# Final activity: Analyzing gene expression of Acute Leukaemia Patients\n",
    "\n",
    "For the final exercise, you will use what you have learnt so far to analyze a gene expression dataset from acute leukaemia patients given an outline of the steps to take. This DNA microarray dataset was initially published in Golub et al. [\"Molecular Classification of Cancer: Class Discovery and Class Prediction by Gene Expression Monitoring\"](https://www.science.org/doi/10.1126/science.286.5439.531?url_ver=Z39.88-2003&rfr_id=ori:rid:crossref.org&rfr_dat=cr_pub%20%200pubmed)"
   ]
  },
  {
   "cell_type": "markdown",
   "metadata": {},
   "source": [
    "### About the Dataset:\n",
    "\n",
    "The dataset contains the gene expression levels of 7129 genes in cells from both the bone marrow and peripheral blood of patients diagnosed with acute myeloid leukemia (AML) and acute lymphoblastic leukemia (ALL). This dataset was utilized initially for the classification of patients into AML and ALL categories. \n",
    "\n",
    "There are **two datasets** containing the initial (training, 38 samples) and independent (test, 34 samples) datasets used in the paper. These datasets contain measurements corresponding to ALL and AML samples from Bone Marrow and Peripheral Blood. Intensity values have been re-scaled such that overall intensities for each chip are equivalent. A total of 7129 gene features were measured. \n",
    "\n",
    "\n",
    "### Dataset Location:\n",
    "\n",
    "The dataset is provided as three .csv files from the [course github repository](https://github.com/TheDeanLab/Intro-to-Python-2024/tree/main/activities/gene_expression) \n",
    "\n",
    "1. `actual.csv` - this gives the actual disease status of each sample, either ALL or AML\n",
    "2. `data_set_ALL_AML_train.csv` - this is the training data, 7129 genes x 38 samples\n",
    "3. `data_set_ALL_AML_independent.csv` - this is the testing data, 7129 genes x 34 samples\n",
    "\n",
    "\n",
    "### Overview of Analysis Steps:\n",
    "\n",
    "We will use this dataset to conduct a typical analysis for DNA microarray and bulk sequencing. This involves:\n",
    "\n",
    "1. **Preprocessing the data** \n",
    "    - so that the data is suitable for computation\n",
    "    \n",
    "2. **Identifying the most informative gene features** \n",
    "    - if a gene has 0-value it is 100% not informative\n",
    "\n",
    "3. **Exploratory analysis** \n",
    "\n",
    "    - use dimensionality reduction to look for patterns, check problems, e.g. does the data support ALL and AML separation?\n",
    "\n",
    "4. **What genes determine AML or ALL**:\n",
    "    1. hypothesis testing between AML and ALL group\n",
    "    2. machine learning classifiers and feature importance"
   ]
  },
  {
   "cell_type": "markdown",
   "metadata": {},
   "source": [
    "## Step 0. Load in the data"
   ]
  },
  {
   "cell_type": "markdown",
   "metadata": {},
   "source": [
    "You will first write code to read in all 3 csv's using pandas library. Then print the shape of the tables you have read in. \n",
    "\n",
    "Something might look wrong - Can you figure it out? "
   ]
  },
  {
   "cell_type": "code",
   "execution_count": 99,
   "metadata": {},
   "outputs": [],
   "source": [
    "import pandas as pd \n",
    "\n",
    "# Write code to load the training dataset (data_set_ALL_AML_train.csv)\n",
    "\n",
    "# Write code to load the testing dataset (data_set_ALL_AML_independent.csv)\n",
    "\n",
    "# Write code to load in the disease status of patients\n"
   ]
  },
  {
   "cell_type": "markdown",
   "metadata": {},
   "source": [
    "## Step 1. Clean and Preprocess the data"
   ]
  },
  {
   "cell_type": "markdown",
   "metadata": {},
   "source": [
    "### a) Deleting extra non-numeric columns in train and test tables"
   ]
  },
  {
   "cell_type": "markdown",
   "metadata": {},
   "source": [
    "After reading in the datasets, you will notice that the shape of the table is wrong. For train we expect 39 patients i.e. 39 columns. For test we expect 35 patients, i.e. 35 columns. We appear to have exactly double that. "
   ]
  },
  {
   "cell_type": "code",
   "execution_count": 80,
   "metadata": {},
   "outputs": [],
   "source": [
    "# Write a print statement to display the first few entries of train or test table. \n",
    "# What is the column names of the extra columns that are not numerical?\n",
    "\n"
   ]
  },
  {
   "cell_type": "markdown",
   "metadata": {},
   "source": [
    "Write code to remove the extra columns to generate an only numeric table for train and test. **HINT**: [pandas.DataFrame.drop](https://pandas.pydata.org/pandas-docs/stable/reference/api/pandas.DataFrame.drop.html)"
   ]
  },
  {
   "cell_type": "code",
   "execution_count": 81,
   "metadata": {},
   "outputs": [],
   "source": [
    "# Remove call columns in training dataset\n",
    "\n",
    "# Remove call columns in testing dataset\n"
   ]
  },
  {
   "cell_type": "markdown",
   "metadata": {},
   "source": [
    "### b) Cross-index gene expression and disease status for each patient"
   ]
  },
  {
   "cell_type": "markdown",
   "metadata": {},
   "source": [
    "Check the number of patients with disease status. You will see that it is more than the number of patients in train or test. Oh noes..... \n",
    "\n",
    "We can only do interesting analysis when we have both the gene expression AND the disease status. \n",
    "\n",
    "The patient id in the train and test tables are given by the column names. \n",
    "You need to write code so that each patient that has gene expression info has the disease status designation.\n",
    "\n",
    "**Expected Outcome**:\n",
    "patients with both gene expression and disease status. You should have:\n",
    "1. two variables, `y_label_train` and `y_label_test` with the disease status of patients in train and test\n",
    "2. two numpy arrays, `X_train` and `X_test` with the gene expression of the same patients, size of array is n_patients x n_genes i.e. columns = genes\n",
    "3. a variable, `gene_description` to store gene description\n",
    "4. a variable, `gene_accession_number` to store gene accession number\n",
    "\n",
    "**HINT**: You can use the table approach or the Python loop approach\n",
    "- transpose the table and use pd.merge\n",
    "OR\n",
    "- use for loops and numpy np.unique and if-else control "
   ]
  },
  {
   "cell_type": "code",
   "execution_count": 82,
   "metadata": {},
   "outputs": [],
   "source": [
    "# 1. Find the disease label i.e. ALL or AML for patients in train data. \n",
    "# Save the expression in X_train variable, save their disease label as y_label_train"
   ]
  },
  {
   "cell_type": "code",
   "execution_count": 83,
   "metadata": {},
   "outputs": [],
   "source": [
    "# 2. Find the disease label i.e. ALL or AML for patients in test data. \n",
    "# Save the expression in X_test variable, save their disease label as y_label_test"
   ]
  },
  {
   "cell_type": "code",
   "execution_count": 84,
   "metadata": {},
   "outputs": [],
   "source": [
    "# 3. create a numpy variable to store gene description"
   ]
  },
  {
   "cell_type": "code",
   "execution_count": 85,
   "metadata": {},
   "outputs": [],
   "source": [
    "# 4. create a numpy variable to store gene accession number"
   ]
  },
  {
   "cell_type": "markdown",
   "metadata": {},
   "source": [
    "## Step 2. Pruning the data, retaining the most informative gene features"
   ]
  },
  {
   "cell_type": "markdown",
   "metadata": {},
   "source": [
    "Use the following code snippet with your `X_train` array to visualize a heatmap of the gene expression. \n",
    "\n",
    "What is the problem here? "
   ]
  },
  {
   "cell_type": "code",
   "execution_count": 86,
   "metadata": {},
   "outputs": [
    {
     "data": {
      "image/png": "[encoded data removed]",
      "text/plain": [
       "<Figure size 432x288 with 1 Axes>"
      ]
     },
     "metadata": {
      "needs_background": "light"
     },
     "output_type": "display_data"
    }
   ],
   "source": [
    "import numpy as np \n",
    "X_train = train.iloc[:,2:].values.T.astype(np.float32)\n",
    "\n",
    "import pylab as plt \n",
    "\n",
    "fig, ax = plt.subplots()\n",
    "ax.matshow(X_train, cmap='coolwarm')\n",
    "ax.set_xlabel('genes')\n",
    "ax.set_ylabel('patients')\n",
    "ax.set_aspect('auto')\n",
    "plt.show()"
   ]
  },
  {
   "cell_type": "markdown",
   "metadata": {},
   "source": [
    "Let's also make histograms of the first two genes, to check their distribution."
   ]
  },
  {
   "cell_type": "code",
   "execution_count": 87,
   "metadata": {},
   "outputs": [
    {
     "data": {
      "image/png": "[encoded data removed]",
      "text/plain": [
       "<Figure size 432x288 with 2 Axes>"
      ]
     },
     "metadata": {
      "needs_background": "light"
     },
     "output_type": "display_data"
    }
   ],
   "source": [
    "gene1 =  X_train[:,0] # write code to get this from X_train\n",
    "gene2 =  X_train[:,1] # write code to get this from X_train\n",
    "\n",
    "fig, ax = plt.subplots(nrows=2, ncols=1)\n",
    "ax[0].hist(gene1, bins=10, color='g')\n",
    "ax[0].set_xlim([-500,500])\n",
    "ax[1].hist(gene2, bins=10, color='r')\n",
    "ax[1].set_xlim([-500,500])\n",
    "plt.show()"
   ]
  },
  {
   "cell_type": "markdown",
   "metadata": {},
   "source": [
    "Did you see that the x-values of the histograms are very different? - try different genes to convince yourself. \n",
    "\n",
    "**Data normalization is essential for analysis**:\n",
    "\n",
    "It's very common for genes to have different range of values. One reason is because the expression is not measured on an absolute scale. \n",
    "\n",
    "What this means however is that its difficult to compare across genes i.e. use the multi-dimensional gene signature to compare patients. This is why we need to perform preprocessing to normalize the data. \n",
    "\n",
    "The preprocessing is done on the combined train and test expression to apply the same steps to both for fairness."
   ]
  },
  {
   "cell_type": "markdown",
   "metadata": {},
   "source": [
    "### Overview of Preprocessing Steps:\n",
    "\n",
    "1. create a variable `X` that is the merged array of `X_train` and `X_test`\n",
    "2. write function to remove any genes and associated gene ids information that was not measured for a patient i.e. is np.nan \n",
    "3. write function to remove any genes and associated gene ids information that has zero-variance (i.e. they are the same value for each patient). **HINT:** `sklearn.feature_selection.VarianceThreshold`\n",
    "4. write function to standard scale the remaining genes. **HINT:** `sklearn.preprocessing.StandardScaler`"
   ]
  },
  {
   "cell_type": "code",
   "execution_count": 88,
   "metadata": {},
   "outputs": [],
   "source": [
    "# 1. make a variable X that merges X_train and X_test. "
   ]
  },
  {
   "cell_type": "code",
   "execution_count": 89,
   "metadata": {},
   "outputs": [],
   "source": [
    "# 2. Write a function to apply to X to remove any genes (i.e. columns) where a patient did not provide a value. i.e. was np.nan\n",
    "# Make sure to save the index and apply it also to `gene_description` and `gene_accession_number`.  \n",
    "# Output should be a variable X_filter"
   ]
  },
  {
   "cell_type": "code",
   "execution_count": 90,
   "metadata": {},
   "outputs": [],
   "source": [
    "# 3. Write a function to apply to X_filter, to removes genes (i.e. columns) which are zero-variance across patients. \n",
    "# Output should write over X_filter \n",
    "# HINT: use sklearn.feature_selection.VarianceThreshold"
   ]
  },
  {
   "cell_type": "code",
   "execution_count": 91,
   "metadata": {},
   "outputs": [],
   "source": [
    "# 4. Write a function to apply to X_filter, to standard scale gene expression \n",
    "# Output should be a variable X_stdscale  \n",
    "# Each gene should now be zero mean and one variance. **Bonus:** write a function to check this.  \n",
    "# HINT: use sklearn.preprocessing.StandardScaler"
   ]
  },
  {
   "cell_type": "markdown",
   "metadata": {},
   "source": [
    "## Step 3. Exploratory analysis"
   ]
  },
  {
   "cell_type": "markdown",
   "metadata": {},
   "source": [
    "Before we do anything fancy, we always want to check whether the data is 'good enough'. \n",
    "\n",
    "Here, we want to check whether using the gene expression, there is any evidence we might be able to separate the two cancers, ALL and AML. \n",
    "\n",
    "A quick and cheerful way to do this is to apply dimensionality reduction. There are of course many algorithms for performing dimensionality reduction with different pros and cons. \n",
    "\n",
    "A good rule of thumb is to start with PCA, principal components analysis. Why? - it is the easiest to interpret. If the data separates under PCA, you can bet you can classify it without anything fancy. If PCA doesn't work well, you may try e.g. UMAP, t-SNE, PacMAP which are nonlinear dimensionality reduction algorithms"
   ]
  },
  {
   "cell_type": "markdown",
   "metadata": {},
   "source": [
    "### Principal Components Analysis (PCA)\n",
    "\n",
    "PCA is an essential algorithm for any budding statistician or data scientist. I suggest watching a YouTube video or google search to understand more. \n",
    "\n",
    "Intuitively, your n-dimensional data lives in an n-dimensional space, such that your data places each patient at n-dimensional coordinates. What PCA does is it fits an n-dimensiona ellipsoid across all patients. Then it finds a rotation of the data to display it onto the top K major axes of this ellipsoid. \n",
    "\n",
    "We can use PCA through `sklearn.decomposition.PCA` "
   ]
  },
  {
   "cell_type": "code",
   "execution_count": 92,
   "metadata": {},
   "outputs": [],
   "source": [
    "# 1. apply sklearn.decomposition.PCA to fit a PCA model with n_components=2 to your X_stdscale\n"
   ]
  },
  {
   "cell_type": "code",
   "execution_count": 93,
   "metadata": {},
   "outputs": [],
   "source": [
    "# 2. Merge your disease label variables into a single variable. This should be the same number of patients as X_stdscale \n"
   ]
  },
  {
   "cell_type": "code",
   "execution_count": 94,
   "metadata": {},
   "outputs": [],
   "source": [
    "# 3. use sklearn.preprocessing.LabelEncoder to map your labels into integers"
   ]
  },
  {
   "cell_type": "code",
   "execution_count": 95,
   "metadata": {},
   "outputs": [],
   "source": [
    "# 4. use matplotlib to scatter plot the pca outputs, coloring points by disease status. "
   ]
  },
  {
   "cell_type": "code",
   "execution_count": 96,
   "metadata": {},
   "outputs": [],
   "source": [
    "# 5. (Extension) apply PCA but now using the un-normalized data i.e. X_filter or X. What do you find? "
   ]
  },
  {
   "cell_type": "markdown",
   "metadata": {},
   "source": [
    "### (Extension): Try different dimensionality reduction techniques\n",
    "\n",
    "Scikit-learn has a gallery of dimensionality reduction techniques. https://scikit-learn.org/stable/modules/manifold.html\n",
    "Try applying some of these in the same manner and see what is the result.\n",
    "\n",
    "If you are feeling really ambitious, check out dimensionality reduction techniques from other sources e.g. UMAP (from [umap-learn](https://umap-learn.readthedocs.io/en/latest/) and PacMAP (from https://github.com/YingfanWang/PaCMAP)\n",
    "\n"
   ]
  },
  {
   "cell_type": "code",
   "execution_count": 97,
   "metadata": {},
   "outputs": [],
   "source": [
    "# Have fun :D"
   ]
  },
  {
   "cell_type": "markdown",
   "metadata": {},
   "source": [
    "## Step 4. Finding what genes determine Leukaemia type"
   ]
  },
  {
   "cell_type": "markdown",
   "metadata": {},
   "source": [
    "From the PCA plots you should see that there was separation between the different leukaemia types.\n",
    "\n",
    "With this data, generally our question is to find the driving genes between these two conditions. We generally use two criteria:\n",
    "\n",
    "1. what are the genes with best classification performance (use ML classifiers)\n",
    "2. what are the genes that are most statistically differential (hypothesis tests)"
   ]
  },
  {
   "cell_type": "markdown",
   "metadata": {},
   "source": [
    "### a). Train a machine learning classifer and find driving genes (Support Vector Machine with L1 feature selection)"
   ]
  },
  {
   "cell_type": "markdown",
   "metadata": {},
   "source": [
    "This method requires the data to be split into training (model fitting) and testing (model evaluation). The basic idea is that if we use all the data then the model will overfit, as generally the machine learning model can have many more model parameters than the data diversity. \n",
    "\n",
    "For this exercise we will use a classical machine learning classifier called a [support vector machine (SVM)](https://en.wikipedia.org/wiki/Support_vector_machine). These are easy to understand, easy to use, give great robust performance, and well implemented within scikit-learn. Here we will use a linear SVM which will try to fit a best plane of separation. \n",
    "\n",
    "Usually ML classifiers are applied directly on the scaled data i.e. not after PCA. \n",
    "\n",
    "### Overview of Steps\n",
    "1. split `X_stdscale` back into train and test i.e. create two variables `X_train_stdscale`, `X_test_stdcale`\n",
    "2. apply the fitted labelencoder to transform `y_label_train` and `y_label_test` to be integer giving two variables, `y_label_train_int`, `y_label_test_int`\n",
    "3. compute the number of ALL and AML cases - are they balanced? i.e. is it 50-50 occurrence? \n",
    "4. use `sklearn.svm.LinearSVC` to fit a model to `X_train_stdscale` and `y_label_train_int`. Check what argument you need to set in order to account for the label imbalance. **HINT:** c.f.  refer to the example of \n",
    "https://scikit-learn.org/stable/auto_examples/model_selection/plot_confusion_matrix.html#sphx-glr-auto-examples-model-selection-plot-confusion-matrix-py\n",
    "5. Evaluate the fitted model using `X_test_stdscale` and `y_label_test_int` by computing and visualizing the confusion matrix. **HINT:** c.f. the same example, https://scikit-learn.org/stable/auto_examples/model_selection/plot_confusion_matrix.html#sphx-glr-auto-examples-model-selection-plot-confusion-matrix-py\n",
    "6. If you are happy with your classifier, follow the SVM example in https://scikit-learn.org/stable/auto_examples/feature_selection/plot_feature_selection.html#sphx-glr-auto-examples-feature-selection-plot-feature-selection-py to extract the SVM weights as a measure of feature importance to rank your genes with decreasing importance."
   ]
  },
  {
   "cell_type": "code",
   "execution_count": null,
   "metadata": {},
   "outputs": [],
   "source": []
  },
  {
   "cell_type": "markdown",
   "metadata": {},
   "source": [
    "### b). Hypothesis testing of individual gene expression between AML and ALL"
   ]
  },
  {
   "cell_type": "markdown",
   "metadata": {},
   "source": [
    "Machine learning classifiers are sensitive to the number of genes and which genes are used as features (columns). Alternative method is to try to use statistics to analyze. \n",
    "\n",
    "Here we are going to do the basic statistics approach using t-test and fdr correction. We won't cover other necessary steps usually doing before statistics testing such as batch correction. In practice, you would use dedicated packages e.g. Seurat in R or scanpy in Python that integrate this functionality for gene expression analysis. \n",
    "\n",
    "\n",
    "### Overview of Steps\n",
    "1. Split your combined normalized dataset into AML and ALL patients i.e. have a `X_stdscale_AML` and `X_stdscale_ALL` array.  \n",
    "2. Use a for loop and the independent t-test, `scipy.stats.ttest_ind` to compute the test statistic and p-value for each gene.\n",
    "3. Convert the results into a table whose columns are `['Gene Accession Number', 'T_Value', 'P_Value']`\n",
    "4. Install `statsmodels` library, (see its [website](https://www.statsmodels.org/stable/index.html) for install instructions)\n",
    "5. Use `statsmodels.stats.multitest.fdrcorrection` on the computed p-values to get corrected p-values.\n",
    "6. Set a significance-level e.g. $p<0.05$, apply this to filter on corrected p-values and produce a sorted list of significant genes sorted in ascending order by p-value (remember: small the p-value, the more significant\n",
    "7. Generate histograms of expresssion in AML and ALL patients for top ranked genes. Plot AML and ALL histogram on the same axis to check that the statistical test has worked (i.e. two histograms should be different with minimal overlap the smaller the p-value!).  \n",
    "8. (Extension:) Make a combined heatmap with AML and ALL patients visualizing the significant genes. Display a sorted heatmap such where all AML patients are first, then all ALL patients."
   ]
  },
  {
   "cell_type": "code",
   "execution_count": null,
   "metadata": {},
   "outputs": [],
   "source": []
  }
 ],
 "metadata": {
  "kernelspec": {
   "display_name": "Python 3",
   "language": "python",
   "name": "python3"
  },
  "language_info": {
   "codemirror_mode": {
    "name": "ipython",
    "version": 3
   },
   "file_extension": ".py",
   "mimetype": "text/x-python",
   "name": "python",
   "nbconvert_exporter": "python",
   "pygments_lexer": "ipython3",
   "version": "3.8.5"
  }
 },
 "nbformat": 4,
 "nbformat_minor": 4
}
