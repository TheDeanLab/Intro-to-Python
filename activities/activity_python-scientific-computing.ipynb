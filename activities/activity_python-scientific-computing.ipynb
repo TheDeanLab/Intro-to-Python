{
 "cells": [
  {
   "cell_type": "markdown",
   "metadata": {},
   "source": [
    "## Scientific Computing with Python: Getting familiar with ```numpy```, ```scipy``` and ```scikit-learn``` for data analysis."
   ]
  },
  {
   "cell_type": "markdown",
   "metadata": {},
   "source": [
    "### Exercise 1: Manipulating an image with ```scikit-image```\n",
    "\n",
    "Load the Immunohistochemistry (IHC) example image stored in `im_path`. We are going to try and extract the blue-stained cell nuclei and then perform a crude binary segmentation on them. This is a very typical problem in cell biology image processing.\n",
    "\n",
    "We have included all the required imports from `skimage` that you should need. The steps are as follows:\n",
    "\n",
    "1. Perform a color unmixing to get the Haematoxylin-Eosin-DAB (HED) channels, and store the image containing the nuclei in a variable.\n",
    "1. Do a gaussian blurring to ensure smooth boundaries for our segmentation.\n",
    "1. Apply an Otsu threshold to segment based on the image intensities, producing a binary image. You will need to use some [comparison operator](https://www.w3schools.com/python/gloss_python_comparison_operators.asp), can you guess which one?\n",
    "1. Plot your final `nuclei_mask` using `pyplot`."
   ]
  },
  {
   "cell_type": "code",
   "execution_count": 17,
   "metadata": {},
   "outputs": [],
   "source": [
    "im_path = \"../datasets/images/ihc.png\"\n",
    "\n",
    "import matplotlib.pyplot as plt\n",
    "from skimage.io import imread\n",
    "from skimage.color import rgb2hed\n",
    "from skimage.filters import gaussian, threshold_otsu\n",
    "\n",
    "# load the image using the appropriate function. call it \"im\"\n",
    "im = ...\n",
    "\n",
    "# --- uncomment to plot ---\n",
    "# plt.imshow(im)\n",
    "# -------------------------\n",
    "\n",
    "# perform RGB to Haematoxylin-Eosin-DAB (HED) color unmixing\n",
    "\n",
    "# take only the nuclei channel and store it in a variable \"nuclei\"\n",
    "\n",
    "# blur the nuclei\n",
    "\n",
    "# apply an otsu threshold to create a binary mask. call the binary image \"nuclei_mask\"\n",
    "nuclei_mask = ...\n",
    "\n",
    "# --- uncomment to plot ---\n",
    "# plt.figure()\n",
    "# plt.imshow(nuclei_mask)\n",
    "# -------------------------"
   ]
  },
  {
   "cell_type": "markdown",
   "metadata": {},
   "source": [
    "### Exercise 2: Statistical analysis with `scipy`\n",
    "\n",
    "Here we have loaded the <b>Iris dataset</b> from <a href=\"https://scikit-learn.org/1.5/datasets/toy_dataset.html\">scikit-learn</a>. The data is loaded in a machine-learning friendly format: ```pd.DataFrame```. We view the first few entries using ```df.head()```. You will use this data to explore the power of `scipy` for statistical analysis."
   ]
  },
  {
   "cell_type": "code",
   "execution_count": 18,
   "metadata": {},
   "outputs": [
    {
     "data": {
      "text/html": [
       "<div>\n",
       "<style scoped>\n",
       "    .dataframe tbody tr th:only-of-type {\n",
       "        vertical-align: middle;\n",
       "    }\n",
       "\n",
       "    .dataframe tbody tr th {\n",
       "        vertical-align: top;\n",
       "    }\n",
       "\n",
       "    .dataframe thead th {\n",
       "        text-align: right;\n",
       "    }\n",
       "</style>\n",
       "<table border=\"1\" class=\"dataframe\">\n",
       "  <thead>\n",
       "    <tr style=\"text-align: right;\">\n",
       "      <th></th>\n",
       "      <th>sepal length (cm)</th>\n",
       "      <th>sepal width (cm)</th>\n",
       "      <th>petal length (cm)</th>\n",
       "      <th>petal width (cm)</th>\n",
       "    </tr>\n",
       "  </thead>\n",
       "  <tbody>\n",
       "    <tr>\n",
       "      <th>0</th>\n",
       "      <td>5.1</td>\n",
       "      <td>3.5</td>\n",
       "      <td>1.4</td>\n",
       "      <td>0.2</td>\n",
       "    </tr>\n",
       "    <tr>\n",
       "      <th>1</th>\n",
       "      <td>4.9</td>\n",
       "      <td>3.0</td>\n",
       "      <td>1.4</td>\n",
       "      <td>0.2</td>\n",
       "    </tr>\n",
       "    <tr>\n",
       "      <th>2</th>\n",
       "      <td>4.7</td>\n",
       "      <td>3.2</td>\n",
       "      <td>1.3</td>\n",
       "      <td>0.2</td>\n",
       "    </tr>\n",
       "    <tr>\n",
       "      <th>3</th>\n",
       "      <td>4.6</td>\n",
       "      <td>3.1</td>\n",
       "      <td>1.5</td>\n",
       "      <td>0.2</td>\n",
       "    </tr>\n",
       "    <tr>\n",
       "      <th>4</th>\n",
       "      <td>5.0</td>\n",
       "      <td>3.6</td>\n",
       "      <td>1.4</td>\n",
       "      <td>0.2</td>\n",
       "    </tr>\n",
       "  </tbody>\n",
       "</table>\n",
       "</div>"
      ],
      "text/plain": [
       "   sepal length (cm)  sepal width (cm)  petal length (cm)  petal width (cm)\n",
       "0                5.1               3.5                1.4               0.2\n",
       "1                4.9               3.0                1.4               0.2\n",
       "2                4.7               3.2                1.3               0.2\n",
       "3                4.6               3.1                1.5               0.2\n",
       "4                5.0               3.6                1.4               0.2"
      ]
     },
     "metadata": {},
     "output_type": "display_data"
    },
    {
     "data": {
      "text/html": [
       "<div>\n",
       "<style scoped>\n",
       "    .dataframe tbody tr th:only-of-type {\n",
       "        vertical-align: middle;\n",
       "    }\n",
       "\n",
       "    .dataframe tbody tr th {\n",
       "        vertical-align: top;\n",
       "    }\n",
       "\n",
       "    .dataframe thead th {\n",
       "        text-align: right;\n",
       "    }\n",
       "</style>\n",
       "<table border=\"1\" class=\"dataframe\">\n",
       "  <thead>\n",
       "    <tr style=\"text-align: right;\">\n",
       "      <th></th>\n",
       "      <th>0</th>\n",
       "      <th>1</th>\n",
       "      <th>2</th>\n",
       "    </tr>\n",
       "  </thead>\n",
       "  <tbody>\n",
       "    <tr>\n",
       "      <th>0</th>\n",
       "      <td>True</td>\n",
       "      <td>False</td>\n",
       "      <td>False</td>\n",
       "    </tr>\n",
       "    <tr>\n",
       "      <th>1</th>\n",
       "      <td>True</td>\n",
       "      <td>False</td>\n",
       "      <td>False</td>\n",
       "    </tr>\n",
       "    <tr>\n",
       "      <th>2</th>\n",
       "      <td>True</td>\n",
       "      <td>False</td>\n",
       "      <td>False</td>\n",
       "    </tr>\n",
       "    <tr>\n",
       "      <th>3</th>\n",
       "      <td>True</td>\n",
       "      <td>False</td>\n",
       "      <td>False</td>\n",
       "    </tr>\n",
       "    <tr>\n",
       "      <th>4</th>\n",
       "      <td>True</td>\n",
       "      <td>False</td>\n",
       "      <td>False</td>\n",
       "    </tr>\n",
       "  </tbody>\n",
       "</table>\n",
       "</div>"
      ],
      "text/plain": [
       "      0      1      2\n",
       "0  True  False  False\n",
       "1  True  False  False\n",
       "2  True  False  False\n",
       "3  True  False  False\n",
       "4  True  False  False"
      ]
     },
     "metadata": {},
     "output_type": "display_data"
    }
   ],
   "source": [
    "import numpy as np\n",
    "import pandas as pd\n",
    "from sklearn.datasets import load_iris\n",
    "\n",
    "# load the data\n",
    "iris = load_iris(as_frame=True)\n",
    "\n",
    "X = iris['data']\n",
    "y = iris['target']\n",
    "# one-hot encode\n",
    "y = pd.get_dummies(y)\n",
    "\n",
    "display(X.head())\n",
    "display(y.head())"
   ]
  },
  {
   "cell_type": "markdown",
   "metadata": {},
   "source": [
    "##### Exercise 2.1: Summarize your data statistics.\n",
    "\n",
    "Use either ```numpy```, ```scipy``` or ```pandas``` to statistically summarize the classes in your data by computing the `mean` and `standard deviation`. Do it for all features, if there is more than one. Summarize the results in a ```pd.DataFrame```."
   ]
  },
  {
   "cell_type": "code",
   "execution_count": 19,
   "metadata": {},
   "outputs": [
    {
     "data": {
      "text/html": [
       "<div>\n",
       "<style scoped>\n",
       "    .dataframe tbody tr th:only-of-type {\n",
       "        vertical-align: middle;\n",
       "    }\n",
       "\n",
       "    .dataframe tbody tr th {\n",
       "        vertical-align: top;\n",
       "    }\n",
       "\n",
       "    .dataframe thead th {\n",
       "        text-align: right;\n",
       "    }\n",
       "</style>\n",
       "<table border=\"1\" class=\"dataframe\">\n",
       "  <thead>\n",
       "    <tr style=\"text-align: right;\">\n",
       "      <th></th>\n",
       "    </tr>\n",
       "  </thead>\n",
       "  <tbody>\n",
       "  </tbody>\n",
       "</table>\n",
       "</div>"
      ],
      "text/plain": [
       "Empty DataFrame\n",
       "Columns: []\n",
       "Index: []"
      ]
     },
     "metadata": {},
     "output_type": "display_data"
    },
    {
     "data": {
      "text/html": [
       "<div>\n",
       "<style scoped>\n",
       "    .dataframe tbody tr th:only-of-type {\n",
       "        vertical-align: middle;\n",
       "    }\n",
       "\n",
       "    .dataframe tbody tr th {\n",
       "        vertical-align: top;\n",
       "    }\n",
       "\n",
       "    .dataframe thead th {\n",
       "        text-align: right;\n",
       "    }\n",
       "</style>\n",
       "<table border=\"1\" class=\"dataframe\">\n",
       "  <thead>\n",
       "    <tr style=\"text-align: right;\">\n",
       "      <th></th>\n",
       "    </tr>\n",
       "  </thead>\n",
       "  <tbody>\n",
       "  </tbody>\n",
       "</table>\n",
       "</div>"
      ],
      "text/plain": [
       "Empty DataFrame\n",
       "Columns: []\n",
       "Index: []"
      ]
     },
     "metadata": {},
     "output_type": "display_data"
    }
   ],
   "source": [
    "means = []\n",
    "stds = []\n",
    "\n",
    "# here, write some code to take the .mean and .std of all of your X data\n",
    "# store in \"means\" and \"stds\"\n",
    "\n",
    "\n",
    "# means\n",
    "display(pd.DataFrame(means))\n",
    "\n",
    "# standard deviations\n",
    "display(pd.DataFrame(stds))"
   ]
  },
  {
   "cell_type": "markdown",
   "metadata": {},
   "source": [
    "##### Exercise 2.2: Perform a significance test using your dataset.\n",
    "\n",
    "Choose an interesting feature from your dataset and use ```scipy``` to perform a signicance test to determine if there is a significant difference between your classes/targets. For bonus points, select a good plot from ```seaborn``` and visualize the data.\n",
    "\n",
    "We have chosen a test for you in the `imports`... Why did we chose this one?"
   ]
  },
  {
   "cell_type": "code",
   "execution_count": 20,
   "metadata": {},
   "outputs": [
    {
     "name": "stdout",
     "output_type": "stream",
     "text": [
      "Are you sure ... is a key in X?\n",
      "Ellipsis\n"
     ]
    }
   ],
   "source": [
    "import seaborn as sns\n",
    "from scipy.stats import f_oneway\n",
    "\n",
    "# look at your stats to select a feature which you think could demonstrate a significant difference between flowers\n",
    "feature = \"...\"\n",
    "\n",
    "# preparing the 3 datasets to use in our test for the selected feature \n",
    "try:\n",
    "    v0 = X[feature].values[y[0]]\n",
    "    v1 = X[feature].values[y[1]]\n",
    "    v2 = X[feature].values[y[2]]\n",
    "except KeyError:\n",
    "    print(f\"Are you sure {feature} is a key in X?\")\n",
    "\n",
    "# plotting our data. what do you think will be the result of our test?\n",
    "try:\n",
    "    sns.violinplot(data=[v0, v1, v2], inner='point')\n",
    "except NameError:\n",
    "    pass\n",
    "\n",
    "# perform the statistical test here:\n",
    "result = ...\n",
    "\n",
    "print(result)"
   ]
  }
 ],
 "metadata": {
  "kernelspec": {
   "display_name": "psf",
   "language": "python",
   "name": "python3"
  },
  "language_info": {
   "codemirror_mode": {
    "name": "ipython",
    "version": 3
   },
   "file_extension": ".py",
   "mimetype": "text/x-python",
   "name": "python",
   "nbconvert_exporter": "python",
   "pygments_lexer": "ipython3",
   "version": "3.8.10"
  }
 },
 "nbformat": 4,
 "nbformat_minor": 2
}
